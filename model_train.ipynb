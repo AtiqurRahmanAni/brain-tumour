{
 "cells": [
  {
   "cell_type": "code",
   "execution_count": 1,
   "metadata": {},
   "outputs": [],
   "source": [
    "import torch\n",
    "import torch_directml\n",
    "import glob\n",
    "import numpy as np\n",
    "from PIL import Image\n",
    "import os\n",
    "import torchvision\n",
    "import torch.nn as nn\n",
    "import torchvision.transforms as transforms\n",
    "import torchvision.datasets as dsets\n",
    "import copy\n",
    "from tqdm.auto import tqdm\n",
    "import glob\n",
    "import time"
   ]
  },
  {
   "cell_type": "code",
   "execution_count": 2,
   "metadata": {},
   "outputs": [
    {
     "data": {
      "text/plain": [
       "device(type='privateuseone', index=0)"
      ]
     },
     "execution_count": 2,
     "metadata": {},
     "output_type": "execute_result"
    }
   ],
   "source": [
    "dml = torch_directml.device()\n",
    "dml"
   ]
  },
  {
   "cell_type": "code",
   "execution_count": 3,
   "metadata": {},
   "outputs": [],
   "source": [
    "train_transform = transforms.Compose([\n",
    "        transforms.Grayscale(),\n",
    "        transforms.Resize(size = (224, 224)),\n",
    "        # transforms.RandomResizedCrop(224),\n",
    "        # transforms.RandomHorizontalFlip(),\n",
    "        transforms.RandomRotation(degrees = 15),\n",
    "        transforms.ToTensor(),\n",
    "        #transforms.Normalize([0.485, 0.456, 0.406], [0.229, 0.224, 0.225])\n",
    "])\n",
    "\n",
    "\n",
    "test_and_val_transform = transforms.Compose([\n",
    "        # transforms.ToPILImage(),\n",
    "        transforms.Grayscale(),\n",
    "        transforms.Resize(size = (224, 224)),\n",
    "        transforms.ToTensor(),\n",
    "        #transforms.Normalize([0.485, 0.456, 0.406], [0.229, 0.224, 0.225])\n",
    "    ])"
   ]
  },
  {
   "cell_type": "code",
   "execution_count": 4,
   "metadata": {},
   "outputs": [],
   "source": [
    "dataset_path = \"../splitted\"\n",
    "train_dataset = dsets.ImageFolder(root=os.path.join(dataset_path, \"train\"), transform=train_transform)\n",
    "test_dataset = dsets.ImageFolder(root=os.path.join(dataset_path, \"test\"), transform=test_and_val_transform)\n",
    "val_dataset = dsets.ImageFolder(root=os.path.join(dataset_path, \"val\"), transform=test_and_val_transform)"
   ]
  },
  {
   "cell_type": "code",
   "execution_count": 5,
   "metadata": {},
   "outputs": [],
   "source": [
    "train_loader = torch.utils.data.DataLoader(train_dataset, batch_size=8, drop_last=True, shuffle=True)\n",
    "test_loader = torch.utils.data.DataLoader(test_dataset, batch_size=8, drop_last=True, shuffle=False)\n",
    "val_loader = torch.utils.data.DataLoader(val_dataset, batch_size=8, drop_last=True, shuffle=False)"
   ]
  },
  {
   "cell_type": "code",
   "execution_count": 6,
   "metadata": {},
   "outputs": [],
   "source": [
    "dataloaders = {\"train\" : train_loader,\n",
    "               \"val\" : val_loader}"
   ]
  },
  {
   "cell_type": "code",
   "execution_count": 7,
   "metadata": {},
   "outputs": [],
   "source": [
    "class MyCNN1(nn.Module):\n",
    "    def __init__(self):\n",
    "        super(MyCNN1, self).__init__()\n",
    "        self.cnn_layer_1 = nn.Conv2d(in_channels=1, out_channels=64, kernel_size=(3, 3), stride=1, padding=0, bias=False)\n",
    "        self.batch_norm_1 = nn.BatchNorm2d(64, eps=1e-05, momentum=0.1, affine=True, track_running_stats=True)\n",
    "        self.maxpool_1 = nn.MaxPool2d(kernel_size=3, stride=2, padding=0)\n",
    "        \n",
    "        self.cnn_layer_2 = nn.Conv2d(in_channels=64, out_channels=128, kernel_size=(3, 3), stride=1, padding=0, bias=False)\n",
    "        self.batch_norm_2 = nn.BatchNorm2d(128, eps=1e-05, momentum=0.1, affine=True, track_running_stats=True)\n",
    "        self.maxpool_2 = nn.MaxPool2d(kernel_size=3, stride=2, padding=0)\n",
    "        \n",
    "        self.cnn_layer_3 = nn.Conv2d(in_channels=128, out_channels=256, kernel_size=(3, 3), stride=1, padding=0, bias=False)\n",
    "        self.batch_norm_3 = nn.BatchNorm2d(256, eps=1e-05, momentum=0.1, affine=True, track_running_stats=True)\n",
    "        self.maxpool_3 = nn.MaxPool2d(kernel_size=3, stride=2, padding=0)\n",
    "\n",
    "\n",
    "        self.flatten = nn.Flatten()\n",
    "        self.relu = nn.ReLU()\n",
    "        self.linear_layer_1 = nn.Linear(256*25*25, 2)\n",
    "                                        \n",
    "                        \n",
    "    \n",
    "    def forward(self, x):\n",
    "        x = self.cnn_layer_1(x)\n",
    "        x = self.batch_norm_1(x)\n",
    "        x = self.relu(x)\n",
    "        x = self.maxpool_1(x)\n",
    "\n",
    "\n",
    "        x = self.cnn_layer_2(x)\n",
    "        x = self.batch_norm_2(x)\n",
    "        x = self.relu(x)\n",
    "        x = self.maxpool_2(x)\n",
    "\n",
    "        x = self.cnn_layer_3(x)\n",
    "        x = self.batch_norm_3(x)\n",
    "        x = self.relu(x)\n",
    "        x = self.maxpool_3(x)\n",
    "        \n",
    "#         print(x.shape)\n",
    "\n",
    "        x = self.flatten(x)\n",
    "\n",
    "        x = self.linear_layer_1(x)\n",
    "        \n",
    "        return x"
   ]
  },
  {
   "cell_type": "code",
   "execution_count": 8,
   "metadata": {},
   "outputs": [
    {
     "data": {
      "text/plain": [
       "MyCNN1(\n",
       "  (cnn_layer_1): Conv2d(1, 64, kernel_size=(3, 3), stride=(1, 1), bias=False)\n",
       "  (batch_norm_1): BatchNorm2d(64, eps=1e-05, momentum=0.1, affine=True, track_running_stats=True)\n",
       "  (maxpool_1): MaxPool2d(kernel_size=3, stride=2, padding=0, dilation=1, ceil_mode=False)\n",
       "  (cnn_layer_2): Conv2d(64, 128, kernel_size=(3, 3), stride=(1, 1), bias=False)\n",
       "  (batch_norm_2): BatchNorm2d(128, eps=1e-05, momentum=0.1, affine=True, track_running_stats=True)\n",
       "  (maxpool_2): MaxPool2d(kernel_size=3, stride=2, padding=0, dilation=1, ceil_mode=False)\n",
       "  (cnn_layer_3): Conv2d(128, 256, kernel_size=(3, 3), stride=(1, 1), bias=False)\n",
       "  (batch_norm_3): BatchNorm2d(256, eps=1e-05, momentum=0.1, affine=True, track_running_stats=True)\n",
       "  (maxpool_3): MaxPool2d(kernel_size=3, stride=2, padding=0, dilation=1, ceil_mode=False)\n",
       "  (flatten): Flatten(start_dim=1, end_dim=-1)\n",
       "  (relu): ReLU()\n",
       "  (linear_layer_1): Linear(in_features=160000, out_features=2, bias=True)\n",
       ")"
      ]
     },
     "execution_count": 8,
     "metadata": {},
     "output_type": "execute_result"
    }
   ],
   "source": [
    "base_model = MyCNN1().to(dml)\n",
    "base_model"
   ]
  },
  {
   "cell_type": "code",
   "execution_count": 9,
   "metadata": {},
   "outputs": [],
   "source": [
    "num_classes = 2\n",
    "num_epochs = 10\n",
    "learning_rate = 1e-5\n",
    "criterion = nn.CrossEntropyLoss()\n",
    "optimizer = torch.optim.AdamW(base_model.parameters(), lr=learning_rate)"
   ]
  },
  {
   "cell_type": "code",
   "execution_count": 10,
   "metadata": {},
   "outputs": [],
   "source": [
    "validation_loss = []\n",
    "training_loss = []\n",
    "\n",
    "def train_model():\n",
    "    since = time.time()\n",
    "    val_acc_history = []\n",
    "    \n",
    "    best_model_wts = copy.deepcopy(base_model.state_dict())\n",
    "    best_acc = 0.0\n",
    "    \n",
    "    progress_bar_train = tqdm(range(num_epochs * len(train_loader)))\n",
    "    progress_bar_eval = tqdm(range(num_epochs * len(val_loader)))\n",
    "    \n",
    "    for epoch in range(num_epochs):\n",
    "        print('Epoch {}/{}'.format(epoch, num_epochs - 1))\n",
    "        print('-' * 10)\n",
    "        \n",
    "        # Each epoch has a training and validation phase\n",
    "        for phase in ['train', 'val']:\n",
    "            if phase == 'train':\n",
    "                base_model.train()  # Set model to training mode\n",
    "            else:\n",
    "                base_model.eval()   # Set model to evaluate mode\n",
    "                \n",
    "            running_loss = 0.0\n",
    "            running_corrects = 0\n",
    "\n",
    "            # Iterate over data.\n",
    "            for inputs, labels in dataloaders[phase]:\n",
    "                # labels = torch.tensor([l.item() for l in label])\n",
    "                inputs = inputs.to(dml)\n",
    "                labels = labels.to(dml)\n",
    "                \n",
    "                # zero the parameter gradients\n",
    "                optimizer.zero_grad()\n",
    "                \n",
    "                with torch.set_grad_enabled(phase == 'train'): \n",
    "                    outputs = base_model(inputs)\n",
    "                    loss = criterion(outputs, labels)\n",
    "                    _, preds = torch.max(outputs, 1)\n",
    "\n",
    "                    # backward + optimize only if in training phase\n",
    "                    if phase == 'train':\n",
    "                        loss.backward()\n",
    "                        optimizer.step()\n",
    "                        progress_bar_train.update(1)\n",
    "                    elif phase == 'val':\n",
    "                        progress_bar_eval.update(1)\n",
    "                        \n",
    "                running_loss += loss.item() * inputs.size(0)\n",
    "                preds = preds.cpu()\n",
    "                labels = labels.data.cpu()\n",
    "                running_corrects += (preds == labels).sum()\n",
    "            \n",
    "            print(\"Lenght: \", len(dataloaders[phase].dataset))\n",
    "            epoch_loss = running_loss / len(dataloaders[phase].dataset)\n",
    "            epoch_acc = float(running_corrects) / len(dataloaders[phase].dataset)\n",
    "\n",
    "            print('{} Loss: {:.4f} Acc: {:.4f}'.format(phase, epoch_loss, epoch_acc))\n",
    "\n",
    "            if phase == 'train':\n",
    "              training_loss.append(epoch_loss)\n",
    "            elif phase == 'val':\n",
    "              validation_loss.append(epoch_loss)\n",
    "            \n",
    "            # deep copy the model\n",
    "            if phase == 'val' and epoch_acc > best_acc:\n",
    "                best_acc = epoch_acc\n",
    "                best_model_wts = copy.deepcopy(base_model.state_dict())\n",
    "            if phase == 'val':\n",
    "                val_acc_history.append(epoch_acc)\n",
    "\n",
    "        print()\n",
    "\n",
    "    time_elapsed = time.time() - since\n",
    "    print('Training complete in {:.0f}m {:.0f}s'.format(time_elapsed // 60, time_elapsed % 60))\n",
    "    print('Best val Acc: {:4f}'.format(best_acc))\n",
    "\n",
    "    # load best model weights\n",
    "    base_model.load_state_dict(best_model_wts)\n",
    "    return base_model, val_acc_history"
   ]
  },
  {
   "cell_type": "code",
   "execution_count": 11,
   "metadata": {},
   "outputs": [
    {
     "data": {
      "application/vnd.jupyter.widget-view+json": {
       "model_id": "2807b020687744c89a920743475368c0",
       "version_major": 2,
       "version_minor": 0
      },
      "text/plain": [
       "  0%|          | 0/43090 [00:00<?, ?it/s]"
      ]
     },
     "metadata": {},
     "output_type": "display_data"
    },
    {
     "data": {
      "application/vnd.jupyter.widget-view+json": {
       "model_id": "f170dde5605743ab998de4917aa84d60",
       "version_major": 2,
       "version_minor": 0
      },
      "text/plain": [
       "  0%|          | 0/6150 [00:00<?, ?it/s]"
      ]
     },
     "metadata": {},
     "output_type": "display_data"
    },
    {
     "name": "stdout",
     "output_type": "stream",
     "text": [
      "Epoch 0/9\n",
      "----------\n",
      "Lenght:  34478\n",
      "train Loss: 0.6496 Acc: 0.6618\n",
      "Lenght:  4926\n",
      "val Loss: 0.5469 Acc: 0.7119\n",
      "\n",
      "Epoch 1/9\n",
      "----------\n",
      "Lenght:  34478\n",
      "train Loss: 0.5783 Acc: 0.7070\n",
      "Lenght:  4926\n",
      "val Loss: 0.4961 Acc: 0.7491\n",
      "\n",
      "Epoch 2/9\n",
      "----------\n",
      "Lenght:  34478\n",
      "train Loss: 0.5486 Acc: 0.7262\n",
      "Lenght:  4926\n",
      "val Loss: 0.4711 Acc: 0.7728\n",
      "\n",
      "Epoch 3/9\n",
      "----------\n",
      "Lenght:  34478\n",
      "train Loss: 0.5184 Acc: 0.7435\n",
      "Lenght:  4926\n",
      "val Loss: 0.5047 Acc: 0.7365\n",
      "\n",
      "Epoch 4/9\n",
      "----------\n",
      "Lenght:  34478\n",
      "train Loss: 0.4967 Acc: 0.7578\n",
      "Lenght:  4926\n",
      "val Loss: 0.4576 Acc: 0.7911\n",
      "\n",
      "Epoch 5/9\n",
      "----------\n",
      "Lenght:  34478\n",
      "train Loss: 0.4811 Acc: 0.7701\n",
      "Lenght:  4926\n",
      "val Loss: 0.5011 Acc: 0.7651\n",
      "\n",
      "Epoch 6/9\n",
      "----------\n",
      "Lenght:  34478\n",
      "train Loss: 0.4648 Acc: 0.7786\n",
      "Lenght:  4926\n",
      "val Loss: 0.4946 Acc: 0.7450\n",
      "\n",
      "Epoch 7/9\n",
      "----------\n",
      "Lenght:  34478\n",
      "train Loss: 0.4488 Acc: 0.7871\n",
      "Lenght:  4926\n",
      "val Loss: 0.4147 Acc: 0.8011\n",
      "\n",
      "Epoch 8/9\n",
      "----------\n",
      "Lenght:  34478\n",
      "train Loss: 0.4340 Acc: 0.7944\n",
      "Lenght:  4926\n",
      "val Loss: 0.4248 Acc: 0.7952\n",
      "\n",
      "Epoch 9/9\n",
      "----------\n",
      "Lenght:  34478\n",
      "train Loss: 0.4262 Acc: 0.8007\n",
      "Lenght:  4926\n",
      "val Loss: 0.3847 Acc: 0.8242\n",
      "\n",
      "Training complete in 63m 38s\n",
      "Best val Acc: 0.824198\n"
     ]
    }
   ],
   "source": [
    "best_model, validation_acc_hist = train_model()"
   ]
  },
  {
   "cell_type": "code",
   "execution_count": 12,
   "metadata": {},
   "outputs": [],
   "source": [
    "model_path = \"../trained-models/mycnn.pt\"\n",
    "torch.save(best_model.state_dict(), model_path)"
   ]
  }
 ],
 "metadata": {
  "kernelspec": {
   "display_name": "venv",
   "language": "python",
   "name": "python3"
  },
  "language_info": {
   "codemirror_mode": {
    "name": "ipython",
    "version": 3
   },
   "file_extension": ".py",
   "mimetype": "text/x-python",
   "name": "python",
   "nbconvert_exporter": "python",
   "pygments_lexer": "ipython3",
   "version": "3.10.6"
  },
  "orig_nbformat": 4
 },
 "nbformat": 4,
 "nbformat_minor": 2
}
