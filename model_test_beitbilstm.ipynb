{
 "cells": [
  {
   "cell_type": "code",
   "execution_count": 6,
   "metadata": {},
   "outputs": [
    {
     "data": {
      "text/plain": [
       "<torch._C.Generator at 0x269123bb1f0>"
      ]
     },
     "execution_count": 6,
     "metadata": {},
     "output_type": "execute_result"
    }
   ],
   "source": [
    "import os\n",
    "import torch\n",
    "import torch.nn as nn\n",
    "from PIL import Image\n",
    "import torchvision.datasets as dsets\n",
    "from sklearn.metrics import classification_report\n",
    "from tqdm.auto import tqdm\n",
    "from torch.utils.data import Dataset, DataLoader\n",
    "import torch_directml\n",
    "import shutil\n",
    "from transformers import BeitImageProcessor, BeitModel\n",
    "from scores import score_in_details\n",
    "torch.manual_seed(240)"
   ]
  },
  {
   "cell_type": "code",
   "execution_count": 2,
   "metadata": {},
   "outputs": [],
   "source": [
    "dml = torch_directml.device()"
   ]
  },
  {
   "cell_type": "code",
   "execution_count": 3,
   "metadata": {},
   "outputs": [],
   "source": [
    "class MyDataset(Dataset):\n",
    "    def __init__(self, ds, processor):\n",
    "        self.ds = ds\n",
    "        self.processor = processor\n",
    "                \n",
    "    def __len__(self):\n",
    "        return len(self.ds)\n",
    "\n",
    "    def __getitem__(self, idx):            \n",
    "        image_path = self.ds[idx][0]\n",
    "        label = self.ds[idx][1]\n",
    "        pil_image = Image.open(image_path).convert(\"RGB\")\n",
    "        pixel_values = self.processor(pil_image, return_tensors=\"pt\").pixel_values\n",
    "            \n",
    "        return {\"pixel_values\": pixel_values.squeeze(),\n",
    "                \"labels\": label,\n",
    "                \"path\": image_path}"
   ]
  },
  {
   "cell_type": "code",
   "execution_count": 4,
   "metadata": {},
   "outputs": [],
   "source": [
    "dataset_path = \"../splitted\"\n",
    "test_dataset = dsets.ImageFolder(root=f'{dataset_path}/test/')\n",
    "image_processor = BeitImageProcessor.from_pretrained(\"microsoft/beit-base-patch16-224\")\n",
    "test_ds = MyDataset(ds=test_dataset.imgs, processor=image_processor)"
   ]
  },
  {
   "cell_type": "code",
   "execution_count": 5,
   "metadata": {},
   "outputs": [],
   "source": [
    "test_loader = DataLoader(test_ds, batch_size=20, drop_last=True, shuffle=False)"
   ]
  },
  {
   "cell_type": "code",
   "execution_count": 7,
   "metadata": {},
   "outputs": [],
   "source": [
    "class BEiTLSTM(nn.Module):\n",
    "    def __init__(self, input_size, hidden_size, num_layers, num_classes):\n",
    "        super(BEiTLSTM, self).__init__()\n",
    "        self.beit_model = BeitModel.from_pretrained(\"microsoft/beit-base-patch16-224\")\n",
    "        self.input_size = input_size\n",
    "        self.hidden_size= hidden_size\n",
    "        self.num_layers = num_layers\n",
    "        self.num_classes = num_classes\n",
    "        \n",
    "        self.lstm = nn.LSTM(self.input_size, self.hidden_size, self.num_layers, batch_first=True, bidirectional=True)\n",
    "        self.fc = nn.Sequential(nn.Linear(self.hidden_size*2, 150),\n",
    "                                nn.ReLU(),\n",
    "                                nn.Linear(150, self.num_classes))\n",
    "        \n",
    "    def forward(self, x):\n",
    "        \n",
    "        outputs = self.beit_model(x).last_hidden_state\n",
    "        \n",
    "        h0 = torch.zeros(self.num_layers*2, outputs.size(0), self.hidden_size).to(dml)\n",
    "        c0 = torch.zeros(self.num_layers*2, outputs.size(0), self.hidden_size).to(dml)\n",
    "        \n",
    "        out, _  = self.lstm(outputs, (h0,c0)) #out: tensor of shape (batch size, seq_length, hidden_size)\n",
    "#         print(out.shape)\n",
    "        # Decode the hidden state of the last time step\n",
    "        out = self.fc(out[:, -1, :])\n",
    "        return out\n",
    "    \n",
    "\n",
    "input_size = 768\n",
    "hidden_size = 300\n",
    "num_layers = 2\n",
    "num_classes = 2\n",
    "\n",
    "base_model = BEiTLSTM(input_size, hidden_size, num_layers, num_classes).to(dml)"
   ]
  },
  {
   "cell_type": "code",
   "execution_count": 8,
   "metadata": {},
   "outputs": [
    {
     "data": {
      "text/plain": [
       "_IncompatibleKeys(missing_keys=[], unexpected_keys=['beit_model.encoder.layer.0.attention.attention.relative_position_bias.relative_position_index', 'beit_model.encoder.layer.1.attention.attention.relative_position_bias.relative_position_index', 'beit_model.encoder.layer.2.attention.attention.relative_position_bias.relative_position_index', 'beit_model.encoder.layer.3.attention.attention.relative_position_bias.relative_position_index', 'beit_model.encoder.layer.4.attention.attention.relative_position_bias.relative_position_index', 'beit_model.encoder.layer.5.attention.attention.relative_position_bias.relative_position_index', 'beit_model.encoder.layer.6.attention.attention.relative_position_bias.relative_position_index', 'beit_model.encoder.layer.7.attention.attention.relative_position_bias.relative_position_index', 'beit_model.encoder.layer.8.attention.attention.relative_position_bias.relative_position_index', 'beit_model.encoder.layer.9.attention.attention.relative_position_bias.relative_position_index', 'beit_model.encoder.layer.10.attention.attention.relative_position_bias.relative_position_index', 'beit_model.encoder.layer.11.attention.attention.relative_position_bias.relative_position_index'])"
      ]
     },
     "execution_count": 8,
     "metadata": {},
     "output_type": "execute_result"
    }
   ],
   "source": [
    "model_path = \"../trained-models/beitbilstmall.pt\"\n",
    "base_model.load_state_dict(torch.load(model_path, map_location=torch.device('cpu')), strict=False)"
   ]
  },
  {
   "cell_type": "code",
   "execution_count": 9,
   "metadata": {},
   "outputs": [],
   "source": [
    "def get_predictions():\n",
    "    softmax = nn.Softmax(dim=1)\n",
    "    base_model.eval()\n",
    "    predictions = []\n",
    "    real_values = []\n",
    "    pred_probas = []\n",
    "    misclassified = []\n",
    "\n",
    "    with torch.no_grad():\n",
    "        for batch in tqdm(test_loader):\n",
    "            inputs = batch['pixel_values'].to(dml)\n",
    "            labels = batch['labels']\n",
    "            path = batch[\"path\"]\n",
    "            \n",
    "            outputs = softmax(base_model(inputs))\n",
    "            \n",
    "            _, preds = torch.max(outputs, dim = 1)\n",
    "            for probs in outputs.cpu():   \n",
    "                pred_probas.append(probs.numpy())\n",
    "                \n",
    "            preds = preds.cpu()\n",
    "            \n",
    "            predictions.extend(preds)\n",
    "            real_values.extend(labels)\n",
    "            \n",
    "            for ind, (actual, pred) in enumerate(zip(labels, preds)):\n",
    "                if actual != pred:\n",
    "                    misclassified.append((path[ind], actual, pred))\n",
    "            \n",
    "    return predictions, real_values, pred_probas, misclassified"
   ]
  },
  {
   "cell_type": "code",
   "execution_count": 10,
   "metadata": {},
   "outputs": [
    {
     "data": {
      "application/vnd.jupyter.widget-view+json": {
       "model_id": "e699e5764ed04fac8ec11b949de1e9a7",
       "version_major": 2,
       "version_minor": 0
      },
      "text/plain": [
       "  0%|          | 0/943 [00:00<?, ?it/s]"
      ]
     },
     "metadata": {},
     "output_type": "display_data"
    },
    {
     "name": "stdout",
     "output_type": "stream",
     "text": [
      "              precision    recall  f1-score   support\n",
      "\n",
      "           0   0.953834  0.990252  0.971702      4924\n",
      "           1   0.996509  0.983065  0.989741     13936\n",
      "\n",
      "    accuracy                       0.984942     18860\n",
      "   macro avg   0.975171  0.986659  0.980722     18860\n",
      "weighted avg   0.985367  0.984942  0.985032     18860\n",
      "\n"
     ]
    }
   ],
   "source": [
    "pred, real, probas, misclassified = get_predictions()\n",
    "print(classification_report(real, pred, digits=6))"
   ]
  },
  {
   "cell_type": "code",
   "execution_count": 11,
   "metadata": {},
   "outputs": [
    {
     "name": "stdout",
     "output_type": "stream",
     "text": [
      "Accuracy: 98.49416755037116%\n",
      "Precision: 0.9853670625580597\n",
      "Recall: 0.9849416755037116\n",
      "F1-score: 0.985031586023236\n",
      "MCC-score: 0.9617613846707653\n",
      "ROC AUC score: 0.8953860228282757\n",
      "\n",
      "\n"
     ]
    },
    {
     "data": {
      "image/png": "[encoded data removed]",
      "text/plain": [
       "<Figure size 1300x500 with 3 Axes>"
      ]
     },
     "metadata": {},
     "output_type": "display_data"
    }
   ],
   "source": [
    "score_in_details(pred=pred, real=real, probas=probas)"
   ]
  },
  {
   "cell_type": "code",
   "execution_count": 12,
   "metadata": {},
   "outputs": [
    {
     "data": {
      "application/vnd.jupyter.widget-view+json": {
       "model_id": "2d50472526dd41ab8907f8b4fbc45d52",
       "version_major": 2,
       "version_minor": 0
      },
      "text/plain": [
       "  0%|          | 0/284 [00:00<?, ?it/s]"
      ]
     },
     "metadata": {},
     "output_type": "display_data"
    }
   ],
   "source": [
    "dest = \"../images/misclassified-new/beitbilstm\"\n",
    "for path, actual, pred in tqdm(misclassified):\n",
    "    img_name = path.split(\"\\\\\")[-1].split(\".\")[0]\n",
    "    ext = path.split(\".\")[-1]\n",
    "    shutil.copy(path, os.path.join(dest, f\"{img_name}_{actual}_{pred}.{ext}\"))"
   ]
  }
 ],
 "metadata": {
  "kernelspec": {
   "display_name": "venv",
   "language": "python",
   "name": "python3"
  },
  "language_info": {
   "codemirror_mode": {
    "name": "ipython",
    "version": 3
   },
   "file_extension": ".py",
   "mimetype": "text/x-python",
   "name": "python",
   "nbconvert_exporter": "python",
   "pygments_lexer": "ipython3",
   "version": "3.10.6"
  },
  "orig_nbformat": 4
 },
 "nbformat": 4,
 "nbformat_minor": 2
}
