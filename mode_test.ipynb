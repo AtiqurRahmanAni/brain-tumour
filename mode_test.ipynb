{
 "cells": [
  {
   "cell_type": "code",
   "execution_count": 18,
   "metadata": {},
   "outputs": [],
   "source": [
    "import pandas as pd\n",
    "import numpy as np\n",
    "import os\n",
    "from sklearn.model_selection import train_test_split\n",
    "import torch\n",
    "import torch.nn as nn\n",
    "import seaborn as sns\n",
    "import torchvision.transforms as transforms\n",
    "import torchvision.datasets as dsets\n",
    "from sklearn.metrics import classification_report, confusion_matrix, precision_score,recall_score,f1_score, roc_curve, roc_auc_score, matthews_corrcoef\n",
    "import matplotlib.pyplot as plt\n",
    "from tqdm.auto import tqdm\n",
    "import torch_directml"
   ]
  },
  {
   "cell_type": "code",
   "execution_count": 6,
   "metadata": {},
   "outputs": [
    {
     "data": {
      "text/plain": [
       "device(type='privateuseone', index=0)"
      ]
     },
     "execution_count": 6,
     "metadata": {},
     "output_type": "execute_result"
    }
   ],
   "source": [
    "dml = torch_directml.device()\n",
    "dml"
   ]
  },
  {
   "cell_type": "code",
   "execution_count": 8,
   "metadata": {},
   "outputs": [],
   "source": [
    "test_and_val_transform = transforms.Compose([\n",
    "        # transforms.ToPILImage(),\n",
    "        transforms.Grayscale(),\n",
    "        transforms.Resize(size = (224, 224)),\n",
    "        transforms.ToTensor(),\n",
    "        #transforms.Normalize([0.485, 0.456, 0.406], [0.229, 0.224, 0.225])\n",
    "    ])"
   ]
  },
  {
   "cell_type": "code",
   "execution_count": 9,
   "metadata": {},
   "outputs": [],
   "source": [
    "dataset_path = \"../splitted\"\n",
    "test_dataset = dsets.ImageFolder(root=f'{dataset_path}/test/', transform=test_and_val_transform)"
   ]
  },
  {
   "cell_type": "code",
   "execution_count": 10,
   "metadata": {},
   "outputs": [],
   "source": [
    "test_loader = torch.utils.data.DataLoader(test_dataset, batch_size=8, drop_last=True, shuffle=False)"
   ]
  },
  {
   "cell_type": "code",
   "execution_count": 11,
   "metadata": {},
   "outputs": [],
   "source": [
    "class MyCNN1(nn.Module):\n",
    "    def __init__(self):\n",
    "        super(MyCNN1, self).__init__()\n",
    "        self.cnn_layer_1 = nn.Conv2d(in_channels=1, out_channels=64, kernel_size=(3, 3), stride=1, padding=0, bias=False)\n",
    "        self.batch_norm_1 = nn.BatchNorm2d(64, eps=1e-05, momentum=0.1, affine=True, track_running_stats=True)\n",
    "        self.maxpool_1 = nn.MaxPool2d(kernel_size=3, stride=2, padding=0)\n",
    "        \n",
    "        self.cnn_layer_2 = nn.Conv2d(in_channels=64, out_channels=128, kernel_size=(3, 3), stride=1, padding=0, bias=False)\n",
    "        self.batch_norm_2 = nn.BatchNorm2d(128, eps=1e-05, momentum=0.1, affine=True, track_running_stats=True)\n",
    "        self.maxpool_2 = nn.MaxPool2d(kernel_size=3, stride=2, padding=0)\n",
    "        \n",
    "        self.cnn_layer_3 = nn.Conv2d(in_channels=128, out_channels=256, kernel_size=(3, 3), stride=1, padding=0, bias=False)\n",
    "        self.batch_norm_3 = nn.BatchNorm2d(256, eps=1e-05, momentum=0.1, affine=True, track_running_stats=True)\n",
    "        self.maxpool_3 = nn.MaxPool2d(kernel_size=3, stride=2, padding=0)\n",
    "\n",
    "\n",
    "        self.flatten = nn.Flatten()\n",
    "        self.relu = nn.ReLU()\n",
    "        self.linear_layer_1 = nn.Linear(256*25*25, 2)\n",
    "                                        \n",
    "                        \n",
    "    \n",
    "    def forward(self, x):\n",
    "        x = self.cnn_layer_1(x)\n",
    "        x = self.batch_norm_1(x)\n",
    "        x = self.relu(x)\n",
    "        x = self.maxpool_1(x)\n",
    "\n",
    "\n",
    "        x = self.cnn_layer_2(x)\n",
    "        x = self.batch_norm_2(x)\n",
    "        x = self.relu(x)\n",
    "        x = self.maxpool_2(x)\n",
    "\n",
    "        x = self.cnn_layer_3(x)\n",
    "        x = self.batch_norm_3(x)\n",
    "        x = self.relu(x)\n",
    "        x = self.maxpool_3(x)\n",
    "        \n",
    "#         print(x.shape)\n",
    "\n",
    "        x = self.flatten(x)\n",
    "\n",
    "        x = self.linear_layer_1(x)\n",
    "        \n",
    "        return x"
   ]
  },
  {
   "cell_type": "code",
   "execution_count": 12,
   "metadata": {},
   "outputs": [
    {
     "data": {
      "text/plain": [
       "MyCNN1(\n",
       "  (cnn_layer_1): Conv2d(1, 64, kernel_size=(3, 3), stride=(1, 1), bias=False)\n",
       "  (batch_norm_1): BatchNorm2d(64, eps=1e-05, momentum=0.1, affine=True, track_running_stats=True)\n",
       "  (maxpool_1): MaxPool2d(kernel_size=3, stride=2, padding=0, dilation=1, ceil_mode=False)\n",
       "  (cnn_layer_2): Conv2d(64, 128, kernel_size=(3, 3), stride=(1, 1), bias=False)\n",
       "  (batch_norm_2): BatchNorm2d(128, eps=1e-05, momentum=0.1, affine=True, track_running_stats=True)\n",
       "  (maxpool_2): MaxPool2d(kernel_size=3, stride=2, padding=0, dilation=1, ceil_mode=False)\n",
       "  (cnn_layer_3): Conv2d(128, 256, kernel_size=(3, 3), stride=(1, 1), bias=False)\n",
       "  (batch_norm_3): BatchNorm2d(256, eps=1e-05, momentum=0.1, affine=True, track_running_stats=True)\n",
       "  (maxpool_3): MaxPool2d(kernel_size=3, stride=2, padding=0, dilation=1, ceil_mode=False)\n",
       "  (flatten): Flatten(start_dim=1, end_dim=-1)\n",
       "  (relu): ReLU()\n",
       "  (linear_layer_1): Linear(in_features=160000, out_features=2, bias=True)\n",
       ")"
      ]
     },
     "execution_count": 12,
     "metadata": {},
     "output_type": "execute_result"
    }
   ],
   "source": [
    "base_model = MyCNN1().to(dml)\n",
    "base_model"
   ]
  },
  {
   "cell_type": "code",
   "execution_count": 13,
   "metadata": {},
   "outputs": [
    {
     "data": {
      "text/plain": [
       "<All keys matched successfully>"
      ]
     },
     "execution_count": 13,
     "metadata": {},
     "output_type": "execute_result"
    }
   ],
   "source": [
    "model_path = \"../trained-models/mycnn.pt\"\n",
    "base_model.load_state_dict(torch.load(model_path))"
   ]
  },
  {
   "cell_type": "code",
   "execution_count": 14,
   "metadata": {},
   "outputs": [],
   "source": [
    "def get_predictions():\n",
    "    softmax = nn.Softmax(dim=1)\n",
    "    base_model.eval()\n",
    "    predictions = []\n",
    "    real_values = []\n",
    "    pred_probas = []\n",
    "    misclassified = []\n",
    "    \n",
    "    with torch.no_grad():\n",
    "        for images, labels in test_loader:\n",
    "            images = images.to(dml)\n",
    "            labels = labels.to(dml)\n",
    "            \n",
    "            outputs = softmax(base_model(images))\n",
    "            \n",
    "            _, preds = torch.max(outputs, dim = 1)\n",
    "            for probs in outputs.cpu():   \n",
    "                pred_probas.append(list(probs))\n",
    "            preds = preds.cpu()\n",
    "            labels = labels.cpu()\n",
    "            predictions.extend(preds)\n",
    "            real_values.extend(labels)\n",
    "            \n",
    "            for ind, (actual, pred) in enumerate(zip(labels, preds)):\n",
    "                if actual != pred:\n",
    "                    img = images[ind].cpu()\n",
    "                    misclassified.append((np.array(img), actual, pred))\n",
    "            \n",
    "    return predictions, real_values, pred_probas, misclassified"
   ]
  },
  {
   "cell_type": "code",
   "execution_count": 15,
   "metadata": {},
   "outputs": [
    {
     "name": "stdout",
     "output_type": "stream",
     "text": [
      "              precision    recall  f1-score   support\n",
      "\n",
      "           0     0.8189    0.8510    0.8346      4926\n",
      "           1     0.8448    0.8117    0.8279      4922\n",
      "\n",
      "    accuracy                         0.8313      9848\n",
      "   macro avg     0.8318    0.8313    0.8313      9848\n",
      "weighted avg     0.8318    0.8313    0.8313      9848\n",
      "\n"
     ]
    }
   ],
   "source": [
    "pred, real, probas, misclassified = get_predictions()\n",
    "print(classification_report([y_actual.item() for y_actual in real], [y_pred.item() for y_pred in pred], digits=4))"
   ]
  },
  {
   "cell_type": "code",
   "execution_count": 19,
   "metadata": {},
   "outputs": [],
   "source": [
    "class_name = [0, 1]\n",
    "def score_in_details():\n",
    "  y_pred = [y.item() for y in pred]\n",
    "  y_real = [y.item() for y in real]\n",
    "    \n",
    "  temp = []\n",
    "  for i in probas:\n",
    "    temp1 = []\n",
    "    for j in i:\n",
    "        temp1.append(j.item())\n",
    "    temp.append(temp1)\n",
    "\n",
    "  accuracy = recall_score(y_real, y_pred, average='macro')\n",
    "  precision = precision_score(y_real, y_pred, average='macro')\n",
    "  recall = recall_score(y_real, y_pred, average='macro')\n",
    "  f1 = f1_score(y_real, y_pred, average='macro')\n",
    "#   roc_auc = roc_auc_score(y_real, temp)\n",
    "  mcc_score = matthews_corrcoef(y_real, y_pred);\n",
    "\n",
    "  print(f\"Accuracy: {accuracy * 100}%\")\n",
    "  print(f\"Precision: {precision * 100}%\")\n",
    "  print(f\"Recall: {recall * 100}%\")\n",
    "  print(f\"F1-score: {f1 * 100}%\")\n",
    "  print(f\"MCC-score: {mcc_score * 100}%\")\n",
    "#   print(f\"ROC AUC score: {roc_auc}\")\n",
    "  \n",
    "  print()\n",
    "  print()\n",
    "\n",
    "  conf_matrix = confusion_matrix(y_real, y_pred)\n",
    "  fig, ax = plt.subplots(figsize=(5,5))\n",
    "  sns.heatmap(pd.DataFrame(conf_matrix), annot = True, cmap = 'YlGnBu',fmt = 'g', xticklabels=class_name, yticklabels=class_name)\n",
    "  plt.title('Confusion matrix', fontsize=10)\n",
    "  plt.ylabel('Actual label', fontsize=10)\n",
    "  plt.xlabel('Predicted label', fontsize=10)\n",
    "  plt.show()"
   ]
  },
  {
   "cell_type": "code",
   "execution_count": 20,
   "metadata": {},
   "outputs": [
    {
     "name": "stdout",
     "output_type": "stream",
     "text": [
      "Accuracy: 83.13283239651021%\n",
      "Precision: 83.18487124227278%\n",
      "Recall: 83.13283239651021%\n",
      "F1-score: 83.12687920418628%\n",
      "MCC-score: 66.31768322159618%\n",
      "\n",
      "\n"
     ]
    },
    {
     "data": {
      "image/png": "[encoded data removed]",
      "text/plain": [
       "<Figure size 500x500 with 2 Axes>"
      ]
     },
     "metadata": {},
     "output_type": "display_data"
    }
   ],
   "source": [
    "score_in_details()"
   ]
  }
 ],
 "metadata": {
  "kernelspec": {
   "display_name": "venv",
   "language": "python",
   "name": "python3"
  },
  "language_info": {
   "codemirror_mode": {
    "name": "ipython",
    "version": 3
   },
   "file_extension": ".py",
   "mimetype": "text/x-python",
   "name": "python",
   "nbconvert_exporter": "python",
   "pygments_lexer": "ipython3",
   "version": "3.10.6"
  },
  "orig_nbformat": 4
 },
 "nbformat": 4,
 "nbformat_minor": 2
}
