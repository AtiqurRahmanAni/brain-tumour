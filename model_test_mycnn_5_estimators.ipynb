{
 "cells": [
  {
   "cell_type": "code",
   "execution_count": 1,
   "metadata": {},
   "outputs": [
    {
     "data": {
      "text/plain": [
       "<torch._C.Generator at 0x2d08d708c30>"
      ]
     },
     "execution_count": 1,
     "metadata": {},
     "output_type": "execute_result"
    }
   ],
   "source": [
    "import cv2, os\n",
    "import torch\n",
    "import torch.nn as nn\n",
    "import torchvision\n",
    "import torchvision.transforms as transforms\n",
    "import torchvision.datasets as dsets\n",
    "from sklearn.metrics import classification_report\n",
    "from tqdm.auto import tqdm\n",
    "from torch.utils.data import Dataset, DataLoader\n",
    "import shutil\n",
    "from scores import score_in_details\n",
    "from torchensemble.utils import io\n",
    "import torch_directml\n",
    "from torchensemble.gradient_boosting import GradientBoostingClassifier\n",
    "torch.manual_seed(240)"
   ]
  },
  {
   "cell_type": "code",
   "execution_count": 2,
   "metadata": {},
   "outputs": [],
   "source": [
    "transform = transforms.Compose([\n",
    "        transforms.ToPILImage(),\n",
    "        transforms.Resize(size = (224, 224)),\n",
    "        transforms.ToTensor(),\n",
    "        ])"
   ]
  },
  {
   "cell_type": "code",
   "execution_count": 3,
   "metadata": {},
   "outputs": [],
   "source": [
    "class MyDataset(Dataset):\n",
    "    def __init__(self, ds, transform):\n",
    "        self.ds = ds\n",
    "        self.transform = transform\n",
    "                \n",
    "    def __len__(self):\n",
    "        return len(self.ds)\n",
    "\n",
    "    def __getitem__(self, idx):            \n",
    "        image_path = self.ds[idx][0]\n",
    "        label = self.ds[idx][1]\n",
    "        img = cv2.imread(image_path)\n",
    "        img = self.transform(img)\n",
    "            \n",
    "        return {\"image\": img,\n",
    "                \"labels\": label,\n",
    "                \"path\": image_path}"
   ]
  },
  {
   "cell_type": "code",
   "execution_count": 4,
   "metadata": {},
   "outputs": [],
   "source": [
    "dataset_path = \"../splitted/test\"\n",
    "test_dataset = dsets.ImageFolder(root=f'{dataset_path}')\n",
    "test_ds = MyDataset(ds=test_dataset.imgs, transform=transform)"
   ]
  },
  {
   "cell_type": "code",
   "execution_count": 5,
   "metadata": {},
   "outputs": [],
   "source": [
    "test_loader = DataLoader(test_ds, batch_size=10, drop_last=True, shuffle=False)"
   ]
  },
  {
   "cell_type": "code",
   "execution_count": 12,
   "metadata": {},
   "outputs": [],
   "source": [
    "class MyCNN(nn.Module):\n",
    "    def __init__(self):\n",
    "        super(MyCNN, self).__init__()\n",
    "        self.conv =  nn.Sequential(nn.Conv2d(in_channels=3, out_channels=64, kernel_size=(3, 3), stride=1, padding=0, bias=True),\n",
    "                     nn.BatchNorm2d(64, eps=1e-05, momentum=0.1, affine=True, track_running_stats=True),\n",
    "                     nn.MaxPool2d(kernel_size=3, stride=2, padding=0),\n",
    "                                   \n",
    "                     nn.Conv2d(in_channels=64, out_channels=128, kernel_size=(3, 3), stride=1, padding=0, bias=True),\n",
    "                     nn.BatchNorm2d(128, eps=1e-05, momentum=0.1, affine=True, track_running_stats=True),\n",
    "                     nn.MaxPool2d(kernel_size=3, stride=2, padding=0),\n",
    "                                   \n",
    "                     nn.Conv2d(in_channels=128, out_channels=256, kernel_size=(3, 3), stride=1, padding=0, bias=True),\n",
    "                     nn.BatchNorm2d(256, eps=1e-05, momentum=0.1, affine=True, track_running_stats=True),\n",
    "                     nn.MaxPool2d(kernel_size=3, stride=2, padding=0),\n",
    "                                   \n",
    "                     nn.Conv2d(in_channels=256, out_channels=512, kernel_size=(3, 3), stride=1, padding=0, bias=True),\n",
    "                     nn.BatchNorm2d(512, eps=1e-05, momentum=0.1, affine=True, track_running_stats=True),\n",
    "                     nn.MaxPool2d(kernel_size=3, stride=2, padding=0))\n",
    "\n",
    "        \n",
    "        self.dense = nn.Sequential(nn.Flatten(), \n",
    "                                  nn.Linear(512*11*11, 512),\n",
    "                                  nn.ReLU(),\n",
    "                                  nn.Linear(512, 256),\n",
    "                                  nn.ReLU(),\n",
    "                                  nn.Linear(256, 2))\n",
    "                        \n",
    "    def forward(self, x):\n",
    "        x = self.conv(x)\n",
    "        x = self.dense(x)\n",
    "        \n",
    "        return x"
   ]
  },
  {
   "cell_type": "code",
   "execution_count": 13,
   "metadata": {},
   "outputs": [],
   "source": [
    "model = GradientBoostingClassifier(\n",
    "    estimator=MyCNN,\n",
    "    n_estimators=5,\n",
    "    cuda=False)"
   ]
  },
  {
   "cell_type": "code",
   "execution_count": 14,
   "metadata": {},
   "outputs": [],
   "source": [
    "model_path=\"../trained-models/ensemble-mycnn\"\n",
    "io.load(model, model_path, map_location=torch.device(\"cpu\"))"
   ]
  },
  {
   "cell_type": "code",
   "execution_count": 15,
   "metadata": {},
   "outputs": [
    {
     "data": {
      "text/plain": [
       "GradientBoostingClassifier(\n",
       "  (estimators_): ModuleList(\n",
       "    (0-4): 5 x MyCNN(\n",
       "      (conv): Sequential(\n",
       "        (0): Conv2d(3, 64, kernel_size=(3, 3), stride=(1, 1))\n",
       "        (1): BatchNorm2d(64, eps=1e-05, momentum=0.1, affine=True, track_running_stats=True)\n",
       "        (2): MaxPool2d(kernel_size=3, stride=2, padding=0, dilation=1, ceil_mode=False)\n",
       "        (3): Conv2d(64, 128, kernel_size=(3, 3), stride=(1, 1))\n",
       "        (4): BatchNorm2d(128, eps=1e-05, momentum=0.1, affine=True, track_running_stats=True)\n",
       "        (5): MaxPool2d(kernel_size=3, stride=2, padding=0, dilation=1, ceil_mode=False)\n",
       "        (6): Conv2d(128, 256, kernel_size=(3, 3), stride=(1, 1))\n",
       "        (7): BatchNorm2d(256, eps=1e-05, momentum=0.1, affine=True, track_running_stats=True)\n",
       "        (8): MaxPool2d(kernel_size=3, stride=2, padding=0, dilation=1, ceil_mode=False)\n",
       "        (9): Conv2d(256, 512, kernel_size=(3, 3), stride=(1, 1))\n",
       "        (10): BatchNorm2d(512, eps=1e-05, momentum=0.1, affine=True, track_running_stats=True)\n",
       "        (11): MaxPool2d(kernel_size=3, stride=2, padding=0, dilation=1, ceil_mode=False)\n",
       "      )\n",
       "      (dense): Sequential(\n",
       "        (0): Flatten(start_dim=1, end_dim=-1)\n",
       "        (1): Linear(in_features=61952, out_features=512, bias=True)\n",
       "        (2): ReLU()\n",
       "        (3): Linear(in_features=512, out_features=256, bias=True)\n",
       "        (4): ReLU()\n",
       "        (5): Linear(in_features=256, out_features=2, bias=True)\n",
       "      )\n",
       "    )\n",
       "  )\n",
       "  (_criterion): CrossEntropyLoss()\n",
       ")"
      ]
     },
     "execution_count": 15,
     "metadata": {},
     "output_type": "execute_result"
    }
   ],
   "source": [
    "dml = torch_directml.device()\n",
    "model.to(dml)\n",
    "model.eval()"
   ]
  },
  {
   "cell_type": "code",
   "execution_count": 16,
   "metadata": {},
   "outputs": [],
   "source": [
    "def get_predictions():\n",
    "    softmax = nn.Softmax(dim=1)\n",
    "    model.eval()\n",
    "    predictions = []\n",
    "    real_values = []\n",
    "    pred_probas = []\n",
    "    misclassified = []\n",
    "\n",
    "    with torch.no_grad():\n",
    "        for batch in tqdm(test_loader):\n",
    "            inputs = batch['image'].to(dml)\n",
    "            labels = batch['labels']\n",
    "            path = batch[\"path\"]\n",
    "            \n",
    "            outputs = softmax(model(inputs))\n",
    "            \n",
    "            _, preds = torch.max(outputs, dim = 1)\n",
    "            for probs in outputs.cpu():   \n",
    "                pred_probas.append(list(probs.numpy()))\n",
    "                \n",
    "            preds = preds.cpu()\n",
    "            labels = labels.cpu()\n",
    "            predictions.extend(preds)\n",
    "            real_values.extend(labels)\n",
    "            \n",
    "            for ind, (actual, pred) in enumerate(zip(labels, preds)):\n",
    "                if actual != pred:\n",
    "                    misclassified.append((path[ind], actual, pred))\n",
    "            \n",
    "    return predictions, real_values, pred_probas, misclassified"
   ]
  },
  {
   "cell_type": "code",
   "execution_count": 17,
   "metadata": {},
   "outputs": [
    {
     "data": {
      "application/vnd.jupyter.widget-view+json": {
       "model_id": "69e87e89c72b4371ac68490910b001bb",
       "version_major": 2,
       "version_minor": 0
      },
      "text/plain": [
       "  0%|          | 0/1886 [00:00<?, ?it/s]"
      ]
     },
     "metadata": {},
     "output_type": "display_data"
    },
    {
     "name": "stdout",
     "output_type": "stream",
     "text": [
      "              precision    recall  f1-score   support\n",
      "\n",
      "           0   0.974364  0.964866  0.969592      4924\n",
      "           1   0.987629  0.991030  0.989327     13936\n",
      "\n",
      "    accuracy                       0.984199     18860\n",
      "   macro avg   0.980996  0.977948  0.979459     18860\n",
      "weighted avg   0.984166  0.984199  0.984174     18860\n",
      "\n"
     ]
    }
   ],
   "source": [
    "pred, real, probas, misclassified = get_predictions()\n",
    "print(classification_report(real, pred, digits=6))"
   ]
  },
  {
   "cell_type": "code",
   "execution_count": 18,
   "metadata": {},
   "outputs": [
    {
     "name": "stdout",
     "output_type": "stream",
     "text": [
      "Accuracy: 98.41993637327677%\n",
      "Precision: 0.9841656047027165\n",
      "Recall: 0.9841993637327677\n",
      "F1-score: 0.984174250505837\n",
      "MCC-score: 0.9589398245384076\n",
      "ROC AUC score: 0.5483045069208106\n",
      "\n",
      "\n"
     ]
    },
    {
     "data": {
      "image/png": "[encoded data removed]",
      "text/plain": [
       "<Figure size 1300x500 with 3 Axes>"
      ]
     },
     "metadata": {},
     "output_type": "display_data"
    }
   ],
   "source": [
    "score_in_details(pred=pred, real=real, probas=probas)"
   ]
  },
  {
   "cell_type": "code",
   "execution_count": 13,
   "metadata": {},
   "outputs": [
    {
     "data": {
      "application/vnd.jupyter.widget-view+json": {
       "model_id": "6acba72f7f1e445a979b28fb34fd50f3",
       "version_major": 2,
       "version_minor": 0
      },
      "text/plain": [
       "  0%|          | 0/23 [00:00<?, ?it/s]"
      ]
     },
     "metadata": {},
     "output_type": "display_data"
    }
   ],
   "source": [
    "dest = \"../misclassified-new/gradient-boosting-normal-densenet\"\n",
    "cnt = 1\n",
    "for path, actual, pred in tqdm(misclassified):\n",
    "    img_name = path.split(\"\\\\\")[-1].split(\".\")[0]\n",
    "    ext = path.split(\".\")[-1]\n",
    "    shutil.copy(path, os.path.join(dest, f\"{cnt}_{img_name}_{actual.item()}_{pred.item()}.{ext}\"))\n",
    "    cnt += 1"
   ]
  }
 ],
 "metadata": {
  "kernelspec": {
   "display_name": "venv",
   "language": "python",
   "name": "python3"
  },
  "language_info": {
   "codemirror_mode": {
    "name": "ipython",
    "version": 3
   },
   "file_extension": ".py",
   "mimetype": "text/x-python",
   "name": "python",
   "nbconvert_exporter": "python",
   "pygments_lexer": "ipython3",
   "version": "3.10.6"
  },
  "orig_nbformat": 4
 },
 "nbformat": 4,
 "nbformat_minor": 2
}
