{
 "cells": [
  {
   "cell_type": "code",
   "execution_count": null,
   "metadata": {},
   "outputs": [],
   "source": [
    "import os\n",
    "import torch\n",
    "import torch.nn as nn\n",
    "from PIL import Image\n",
    "import torchvision.datasets as dsets\n",
    "from sklearn.metrics import classification_report\n",
    "from tqdm.auto import tqdm\n",
    "from torch.utils.data import Dataset, DataLoader\n",
    "import torch_directml\n",
    "import shutil\n",
    "import torchvision.transforms as transforms\n",
    "from transformers import ViTImageProcessor\n",
    "from scores import score_in_details\n",
    "import pandas as pd\n",
    "torch.manual_seed(240)"
   ]
  },
  {
   "cell_type": "code",
   "execution_count": null,
   "metadata": {},
   "outputs": [],
   "source": [
    "dml = torch_directml.device()"
   ]
  },
  {
   "cell_type": "code",
   "execution_count": null,
   "metadata": {},
   "outputs": [],
   "source": [
    "transform = transforms.Compose([\n",
    "        transforms.ToPILImage(),\n",
    "        transforms.Resize(size = (299, 299)),\n",
    "        transforms.ToTensor(),\n",
    "        ])"
   ]
  },
  {
   "cell_type": "code",
   "execution_count": null,
   "metadata": {},
   "outputs": [],
   "source": [
    "class MyDataset(Dataset):\n",
    "    def __init__(self,imgs,image_processor,label):\n",
    "        self.imgs = imgs\n",
    "        self.image_processor=image_processor\n",
    "        self.label=label\n",
    "                \n",
    "    def __len__(self):\n",
    "        return len(self.imgs)\n",
    "\n",
    "    def __getitem__(self, idx):            \n",
    "        img = self.imgs[idx]\n",
    "        image = Image.open(img).convert('RGB')\n",
    "        pixel_values = self.image_processor(image, return_tensors=\"pt\").pixel_values\n",
    "        label = self.label[idx]\n",
    "            \n",
    "        return {\"pixel_values\": pixel_values.squeeze(),\n",
    "                \"labels\": label,\n",
    "                \"path\": img}"
   ]
  },
  {
   "cell_type": "code",
   "execution_count": null,
   "metadata": {},
   "outputs": [],
   "source": [
    "dataset_path = \"../splitted/test\"\n",
    "test_dataset = dsets.ImageFolder(root=dataset_path)\n",
    "test_df = pd.DataFrame(test_dataset.imgs, columns = ['Image','Label'])"
   ]
  },
  {
   "cell_type": "code",
   "execution_count": null,
   "metadata": {},
   "outputs": [],
   "source": [
    "image_processor = ViTImageProcessor.from_pretrained(\"microsoft/swin-base-patch4-window12-384\")"
   ]
  },
  {
   "cell_type": "code",
   "execution_count": null,
   "metadata": {},
   "outputs": [],
   "source": [
    "test_ds = MyDataset(imgs = test_df['Image'].tolist(),image_processor = image_processor, label = test_df['Label'].tolist())\n",
    "test_loader = torch.utils.data.DataLoader(test_ds, batch_size=10, drop_last=True, shuffle=False)"
   ]
  },
  {
   "cell_type": "code",
   "execution_count": null,
   "metadata": {},
   "outputs": [],
   "source": [
    "def create_model():\n",
    "    model = torch.hub.load('pytorch/vision:v0.10.0', 'inception_v3', pretrained=True)\n",
    "    \n",
    "    num_ftrs = model.AuxLogits.fc.in_features\n",
    "    model.AuxLogits.fc = nn.Linear(num_ftrs,  2)\n",
    "    \n",
    "    num_ftrs = model.fc.in_features\n",
    "    model.fc = nn.Linear(num_ftrs, 2)\n",
    "\n",
    "    return model.to(dml)\n",
    "    \n",
    "base_model = create_model()"
   ]
  },
  {
   "cell_type": "code",
   "execution_count": null,
   "metadata": {},
   "outputs": [],
   "source": [
    "model_path = \"../trained-models/braintumor_swin_inceptionV3.pt\"\n",
    "base_model.load_state_dict(torch.load(model_path, map_location=torch.device('cpu')), strict=False)"
   ]
  },
  {
   "cell_type": "code",
   "execution_count": null,
   "metadata": {},
   "outputs": [],
   "source": [
    "base_model = base_model.to(dml)"
   ]
  },
  {
   "cell_type": "code",
   "execution_count": 24,
   "metadata": {},
   "outputs": [],
   "source": [
    "def get_predictions():\n",
    "    softmax = nn.Softmax(dim=1)\n",
    "    base_model.eval()\n",
    "    predictions = []\n",
    "    real_values = []\n",
    "    pred_probas = []\n",
    "    misclassified = []\n",
    "\n",
    "    with torch.no_grad():\n",
    "        for batch in tqdm(test_loader):\n",
    "            inputs = batch['pixel_values'].to(dml)\n",
    "            labels = batch['labels']\n",
    "            path = batch[\"path\"]\n",
    "            \n",
    "            outputs = softmax(base_model(inputs))\n",
    "            \n",
    "            _, preds = torch.max(outputs, dim = 1)\n",
    "            for probs in outputs.cpu():   \n",
    "                pred_probas.append(probs.numpy())\n",
    "                \n",
    "            preds = preds.cpu()\n",
    "            \n",
    "            predictions.extend(preds)\n",
    "            real_values.extend(labels)\n",
    "            \n",
    "            for ind, (actual, pred) in enumerate(zip(labels, preds)):\n",
    "                if actual != pred:\n",
    "                    misclassified.append((path[ind], actual, pred))\n",
    "            \n",
    "    return predictions, real_values, pred_probas, misclassified"
   ]
  },
  {
   "cell_type": "code",
   "execution_count": 25,
   "metadata": {},
   "outputs": [
    {
     "data": {
      "application/vnd.jupyter.widget-view+json": {
       "model_id": "bcb7beafa49b41bda56e6db8a0ae108f",
       "version_major": 2,
       "version_minor": 0
      },
      "text/plain": [
       "  0%|          | 0/1886 [00:00<?, ?it/s]"
      ]
     },
     "metadata": {},
     "output_type": "display_data"
    },
    {
     "name": "stdout",
     "output_type": "stream",
     "text": [
      "              precision    recall  f1-score   support\n",
      "\n",
      "           0   0.945557  0.987612  0.966127      4924\n",
      "           1   0.995553  0.979908  0.987669     13936\n",
      "\n",
      "    accuracy                       0.981919     18860\n",
      "   macro avg   0.970555  0.983760  0.976898     18860\n",
      "weighted avg   0.982500  0.981919  0.982044     18860\n",
      "\n"
     ]
    }
   ],
   "source": [
    "pred, real, probas, misclassified = get_predictions()\n",
    "print(classification_report(real, pred, digits=6))"
   ]
  },
  {
   "cell_type": "code",
   "execution_count": 26,
   "metadata": {},
   "outputs": [
    {
     "name": "stdout",
     "output_type": "stream",
     "text": [
      "Accuracy: 98.19194061505833%\n",
      "Precision: 0.9824999523404065\n",
      "Recall: 0.9819194061505833\n",
      "F1-score: 0.9820444756916776\n",
      "MCC-score: 0.95422357744159\n",
      "ROC AUC score: 0.8978104020957824\n",
      "\n",
      "\n"
     ]
    },
    {
     "data": {
      "image/png": "[encoded data removed]",
      "text/plain": [
       "<Figure size 1300x500 with 3 Axes>"
      ]
     },
     "metadata": {},
     "output_type": "display_data"
    }
   ],
   "source": [
    "score_in_details(pred=pred, real=real, probas=probas)"
   ]
  },
  {
   "cell_type": "code",
   "execution_count": 27,
   "metadata": {},
   "outputs": [
    {
     "data": {
      "application/vnd.jupyter.widget-view+json": {
       "model_id": "14b24ecf47fe4ae382592d4c5cee5c2e",
       "version_major": 2,
       "version_minor": 0
      },
      "text/plain": [
       "  0%|          | 0/341 [00:00<?, ?it/s]"
      ]
     },
     "metadata": {},
     "output_type": "display_data"
    }
   ],
   "source": [
    "dest = \"../images/misclassified-new/swin-inception\"\n",
    "for path, actual, pred in tqdm(misclassified):\n",
    "    img_name = path.split(\"\\\\\")[-1].split(\".\")[0]\n",
    "    ext = path.split(\".\")[-1]\n",
    "    shutil.copy(path, os.path.join(dest, f\"{img_name}_{actual}_{pred}.{ext}\"))"
   ]
  }
 ],
 "metadata": {
  "kernelspec": {
   "display_name": "venv",
   "language": "python",
   "name": "python3"
  },
  "language_info": {
   "codemirror_mode": {
    "name": "ipython",
    "version": 3
   },
   "file_extension": ".py",
   "mimetype": "text/x-python",
   "name": "python",
   "nbconvert_exporter": "python",
   "pygments_lexer": "ipython3",
   "version": "3.10.6"
  },
  "orig_nbformat": 4
 },
 "nbformat": 4,
 "nbformat_minor": 2
}
