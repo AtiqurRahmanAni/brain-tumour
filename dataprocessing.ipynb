{
 "cells": [
  {
   "cell_type": "code",
   "execution_count": 4,
   "metadata": {},
   "outputs": [],
   "source": [
    "import glob\n",
    "import os\n",
    "import numpy as np\n",
    "import matplotlib\n",
    "import matplotlib.pyplot as plt\n",
    "import pandas as pd\n",
    "import cv2\n",
    "import matplotlib\n",
    "from collections import Counter\n",
    "from tqdm.auto import tqdm\n",
    "from sklearn.model_selection import train_test_split\n",
    "import shutil\n",
    "import h5py"
   ]
  },
  {
   "cell_type": "code",
   "execution_count": 2,
   "metadata": {},
   "outputs": [],
   "source": [
    "df = pd.read_csv(\"../BraTS20 Training Metadata.csv\")\n",
    "file_name = df['slice_path'].apply(lambda path: path.split(\"/\")[-1])\n",
    "target = df['target']\n",
    "\n",
    "mapping = []\n",
    "\n",
    "for f, t in zip(file_name, target):\n",
    "    mapping.append((f, t))"
   ]
  },
  {
   "cell_type": "code",
   "execution_count": 3,
   "metadata": {},
   "outputs": [
    {
     "data": {
      "image/png": "[encoded data removed]",
      "text/plain": [
       "<Figure size 640x480 with 1 Axes>"
      ]
     },
     "metadata": {},
     "output_type": "display_data"
    }
   ],
   "source": [
    "idx = np.random.randint(len(mapping))\n",
    "image_file = os.path.join(\"../data\", mapping[idx][0])\n",
    "\n",
    "with h5py.File(image_file, \"r\") as file:\n",
    "    image = np.array(file['image'])\n",
    "    mask = np.array(file['mask'])\n",
    "\n",
    "    layer0 = mask[:, :, 0]\n",
    "    layer1 = mask[:, :, 1]\n",
    "    layer2 = mask[:, :, 2]\n",
    "    layer0[np.where(layer0 > 0)] = 50\n",
    "    layer1[np.where(layer1 > 0)] = 100\n",
    "    layer2[np.where(layer2 > 0)] = 200\n",
    "\n",
    "    final_mask = np.zeros_like(layer0)\n",
    "\n",
    "    for i in range(240):\n",
    "        for j in range(240):\n",
    "            if layer2[i][j] > 0:\n",
    "                final_mask[i][j] = layer2[i][j]\n",
    "\n",
    "    for i in range(240):\n",
    "        for j in range(240):\n",
    "            if layer1[i][j] > 0:\n",
    "                final_mask[i][j] = layer1[i][j]\n",
    "    \n",
    "    for i in range(240):\n",
    "        for j in range(240):\n",
    "            if layer0[i][j] > 0:\n",
    "                final_mask[i][j] = layer0[i][j] \n",
    "\n",
    "    plt.imshow(final_mask)\n",
    "    plt.show()"
   ]
  },
  {
   "cell_type": "code",
   "execution_count": 6,
   "metadata": {},
   "outputs": [
    {
     "name": "stdout",
     "output_type": "stream",
     "text": [
      "(240, 240, 4)\n"
     ]
    },
    {
     "ename": "NameError",
     "evalue": "name 'mapping' is not defined",
     "output_type": "error",
     "traceback": [
      "\u001b[1;31m---------------------------------------------------------------------------\u001b[0m",
      "\u001b[1;31mNameError\u001b[0m                                 Traceback (most recent call last)",
      "\u001b[1;32me:\\Study materials\\Paper works\\Brain tumour\\brain-tumour\\dataprocessing.ipynb Cell 4\u001b[0m line \u001b[0;36m1\n\u001b[0;32m      <a href='vscode-notebook-cell:/e%3A/Study%20materials/Paper%20works/Brain%20tumour/brain-tumour/dataprocessing.ipynb#W3sZmlsZQ%3D%3D?line=8'>9</a>\u001b[0m     mask \u001b[39m=\u001b[39m np\u001b[39m.\u001b[39marray(file[\u001b[39m'\u001b[39m\u001b[39mmask\u001b[39m\u001b[39m'\u001b[39m])\n\u001b[0;32m     <a href='vscode-notebook-cell:/e%3A/Study%20materials/Paper%20works/Brain%20tumour/brain-tumour/dataprocessing.ipynb#W3sZmlsZQ%3D%3D?line=9'>10</a>\u001b[0m     \u001b[39mprint\u001b[39m(image\u001b[39m.\u001b[39mshape)\n\u001b[1;32m---> <a href='vscode-notebook-cell:/e%3A/Study%20materials/Paper%20works/Brain%20tumour/brain-tumour/dataprocessing.ipynb#W3sZmlsZQ%3D%3D?line=12'>13</a>\u001b[0m \u001b[39mfor\u001b[39;00m idx, (image_name, label) \u001b[39min\u001b[39;00m \u001b[39menumerate\u001b[39m(mapping):\n\u001b[0;32m     <a href='vscode-notebook-cell:/e%3A/Study%20materials/Paper%20works/Brain%20tumour/brain-tumour/dataprocessing.ipynb#W3sZmlsZQ%3D%3D?line=13'>14</a>\u001b[0m     image_file \u001b[39m=\u001b[39m os\u001b[39m.\u001b[39mpath\u001b[39m.\u001b[39mjoin(\u001b[39m\"\u001b[39m\u001b[39m../data\u001b[39m\u001b[39m\"\u001b[39m, image_name)\n\u001b[0;32m     <a href='vscode-notebook-cell:/e%3A/Study%20materials/Paper%20works/Brain%20tumour/brain-tumour/dataprocessing.ipynb#W3sZmlsZQ%3D%3D?line=14'>15</a>\u001b[0m     \u001b[39mwith\u001b[39;00m h5py\u001b[39m.\u001b[39mFile(image_file, \u001b[39m\"\u001b[39m\u001b[39mr\u001b[39m\u001b[39m\"\u001b[39m) \u001b[39mas\u001b[39;00m file:\n",
      "\u001b[1;31mNameError\u001b[0m: name 'mapping' is not defined"
     ]
    }
   ],
   "source": [
    "idx = np.random.randint(len(mapping))\n",
    "image_save_path = \"../images\"\n",
    "mask_save_path = \"../mask\"\n",
    "\n",
    "for idx, (image_name, label) in enumerate(mapping):\n",
    "    image_file = os.path.join(\"../data\", image_name)\n",
    "    with h5py.File(image_file, \"r\") as file:\n",
    "        image = np.array(file['image'])\n",
    "        mask = np.array(file['mask'])\n",
    "        # plt.figure(figsize=(16, 6))\n",
    "        # plt.subplot(1, 4, 1)\n",
    "        # plt.axis('off')\n",
    "        # plt.imshow(image[:, :, 0], cmap=\"gray\")\n",
    "\n",
    "        # plt.subplot(1, 4, 2)\n",
    "        # plt.axis('off')\n",
    "        # plt.imshow(image[:, :, 1], cmap=\"gray\")\n",
    "\n",
    "        # plt.subplot(1, 4, 3)\n",
    "        # plt.axis('off')\n",
    "        # plt.imshow(image[:, :, 2], cmap=\"gray\")\n",
    "\n",
    "        # plt.subplot(1, 4, 4)\n",
    "        # plt.axis('off')\n",
    "        # plt.imshow(image[:, :, 3], cmap=\"gray\")\n",
    "\n",
    "        # plt.show()\n",
    "        slice = image[:, :, 3]\n",
    "        flatten_img = slice.flatten()\n",
    "\n",
    "        no_zero = len(flatten_img[np.where(flatten_img > 0.0)])\n",
    "        volume = no_zero / (slice.shape[0] * slice.shape[1])\n",
    "\n",
    "        # print(label, volume)\n",
    "        \n",
    "        if volume >= 0.20:\n",
    "            layer0 = mask[:, :, 0]\n",
    "            layer1 = mask[:, :, 1]\n",
    "            layer2 = mask[:, :, 2]\n",
    "            layer0[np.where(layer0 > 0)] = 50\n",
    "            layer1[np.where(layer1 > 0)] = 100\n",
    "            layer2[np.where(layer2 > 0)] = 200\n",
    "\n",
    "            final_mask = np.zeros_like(layer0)\n",
    "\n",
    "            for i in range(240):\n",
    "                for j in range(240):\n",
    "                    if layer2[i][j] > 0:\n",
    "                        final_mask[i][j] = layer2[i][j]\n",
    "                    if layer1[i][j] > 0:\n",
    "                        final_mask[i][j] = layer1[i][j]\n",
    "                    if layer0[i][j] > 0:\n",
    "                        final_mask[i][j] = layer0[i][j]\n",
    "\n",
    "\n",
    "            saving_path = os.path.join(mask_save_path, f\"{label}\\{idx}.png\")\n",
    "            cropped_size = 25\n",
    "            cropped_img = final_mask[cropped_size:-cropped_size, cropped_size:-cropped_size]\n",
    "            matplotlib.image.imsave(saving_path, cropped_img)\n",
    "\n",
    "            # break\n",
    "        \n",
    "        if idx % 100 == 0:\n",
    "            print(f\"{idx} done....\")"
   ]
  },
  {
   "cell_type": "code",
   "execution_count": 2,
   "metadata": {},
   "outputs": [],
   "source": [
    "mask_path = glob.glob(\"../images/mask/1/*\")\n",
    "saving_path = \"../images/filtered-1\"\n",
    "mask_images = []"
   ]
  },
  {
   "cell_type": "code",
   "execution_count": 3,
   "metadata": {},
   "outputs": [
    {
     "data": {
      "application/vnd.jupyter.widget-view+json": {
       "model_id": "916cee81e3d94f94adc8631b86e009ce",
       "version_major": 2,
       "version_minor": 0
      },
      "text/plain": [
       "  0%|          | 0/19305 [00:00<?, ?it/s]"
      ]
     },
     "metadata": {},
     "output_type": "display_data"
    }
   ],
   "source": [
    "for path in tqdm(mask_path):\n",
    "    mask = cv2.imread(path)\n",
    "    name = path.split(\"\\\\\")[-1]\n",
    "    mask = cv2.cvtColor(mask, cv2.COLOR_RGB2GRAY)\n",
    "    bg = Counter(mask.flatten())[33]\n",
    "    percentage = bg / (190*190)\n",
    "    if percentage < 0.995:\n",
    "        # shutil.copy(path, os.path.join(saving_path, name))\n",
    "        mask_images.append(name.split(\".\")[0])"
   ]
  },
  {
   "cell_type": "code",
   "execution_count": 7,
   "metadata": {},
   "outputs": [],
   "source": [
    "label = [1 for _ in range(len(mask_images))]"
   ]
  },
  {
   "cell_type": "code",
   "execution_count": 15,
   "metadata": {},
   "outputs": [],
   "source": [
    "mask_path_0 = [name.split(\"\\\\\")[-1].split(\".\")[0] for name in glob.glob(\"../images/mask/0/*\")]\n",
    "label.extend([0 for _ in range(len(mask_path_0))])"
   ]
  },
  {
   "cell_type": "code",
   "execution_count": 18,
   "metadata": {},
   "outputs": [],
   "source": [
    "all_masks = mask_images + mask_path_0"
   ]
  },
  {
   "cell_type": "code",
   "execution_count": 22,
   "metadata": {},
   "outputs": [],
   "source": [
    "X_train, X_test, y_train, y_test = train_test_split(all_masks, label, test_size=0.20, random_state=42, stratify=label, shuffle=True)\n",
    "X_train, X_val, y_train, y_val = train_test_split(X_train, y_train, test_size=0.125, random_state=42, stratify=y_train, shuffle=True)"
   ]
  },
  {
   "cell_type": "code",
   "execution_count": 24,
   "metadata": {},
   "outputs": [
    {
     "data": {
      "text/plain": [
       "23574"
      ]
     },
     "execution_count": 24,
     "metadata": {},
     "output_type": "execute_result"
    }
   ],
   "source": [
    "len(all_masks)"
   ]
  },
  {
   "cell_type": "code",
   "execution_count": 23,
   "metadata": {},
   "outputs": [
    {
     "data": {
      "text/plain": [
       "(16501, 2358, 4715)"
      ]
     },
     "execution_count": 23,
     "metadata": {},
     "output_type": "execute_result"
    }
   ],
   "source": [
    "len(X_train), len(X_val), len(X_test)"
   ]
  },
  {
   "cell_type": "code",
   "execution_count": 29,
   "metadata": {},
   "outputs": [],
   "source": [
    "val_path = \"../splitted/val\"\n",
    "for (img_name, label) in zip(X_val, y_val):\n",
    "    shutil.copy(f\"../images/{label}/{img_name}_0.png\", os.path.join(f\"{val_path}/{label}\", f\"{img_name}_0.png\"))\n",
    "    shutil.copy(f\"../images/{label}/{img_name}_1.png\", os.path.join(f\"{val_path}/{label}\", f\"{img_name}_1.png\"))\n",
    "    shutil.copy(f\"../images/{label}/{img_name}_2.png\", os.path.join(f\"{val_path}/{label}\", f\"{img_name}_2.png\"))\n",
    "    shutil.copy(f\"../images/{label}/{img_name}_3.png\", os.path.join(f\"{val_path}/{label}\", f\"{img_name}_3.png\"))"
   ]
  },
  {
   "cell_type": "code",
   "execution_count": null,
   "metadata": {},
   "outputs": [],
   "source": [
    "test_path = \"../splitted/test\"\n",
    "for (img_name, label) in zip(X_test, y_test):\n",
    "    shutil.copy(f\"../images/{label}/{img_name}_0.png\", os.path.join(f\"{test_path}/{label}\", f\"{img_name}_0.png\"))\n",
    "    shutil.copy(f\"../images/{label}/{img_name}_1.png\", os.path.join(f\"{test_path}/{label}\", f\"{img_name}_1.png\"))\n",
    "    shutil.copy(f\"../images/{label}/{img_name}_2.png\", os.path.join(f\"{test_path}/{label}\", f\"{img_name}_2.png\"))\n",
    "    shutil.copy(f\"../images/{label}/{img_name}_3.png\", os.path.join(f\"{test_path}/{label}\", f\"{img_name}_3.png\"))"
   ]
  },
  {
   "cell_type": "code",
   "execution_count": null,
   "metadata": {},
   "outputs": [],
   "source": [
    "train_path = \"../splitted/train\"\n",
    "for (img_name, label) in zip(X_train, y_train):\n",
    "    shutil.copy(f\"../images/{label}/{img_name}_0.png\", os.path.join(f\"{train_path}/{label}\", f\"{img_name}_0.png\"))\n",
    "    shutil.copy(f\"../images/{label}/{img_name}_1.png\", os.path.join(f\"{train_path}/{label}\", f\"{img_name}_1.png\"))\n",
    "    shutil.copy(f\"../images/{label}/{img_name}_2.png\", os.path.join(f\"{train_path}/{label}\", f\"{img_name}_2.png\"))\n",
    "    shutil.copy(f\"../images/{label}/{img_name}_3.png\", os.path.join(f\"{train_path}/{label}\", f\"{img_name}_3.png\"))"
   ]
  },
  {
   "cell_type": "code",
   "execution_count": 18,
   "metadata": {},
   "outputs": [
    {
     "data": {
      "image/png": "[encoded data removed]",
      "text/plain": [
       "<Figure size 640x480 with 4 Axes>"
      ]
     },
     "metadata": {},
     "output_type": "display_data"
    }
   ],
   "source": [
    "image_file = \"../data/volume_1_slice_100.h5\"\n",
    "\n",
    "with h5py.File(image_file, \"r\") as file:\n",
    "    image = np.array(file['image'])\n",
    "    mask = np.array(file['mask'])\n",
    "    \n",
    "    _, axes = plt.subplots(1, 4)\n",
    "    for idx, ax in enumerate(axes):\n",
    "        ax.imshow(image[:, : , idx], cmap='gray')\n"
   ]
  }
 ],
 "metadata": {
  "kernelspec": {
   "display_name": "venv",
   "language": "python",
   "name": "python3"
  },
  "language_info": {
   "codemirror_mode": {
    "name": "ipython",
    "version": 3
   },
   "file_extension": ".py",
   "mimetype": "text/x-python",
   "name": "python",
   "nbconvert_exporter": "python",
   "pygments_lexer": "ipython3",
   "version": "3.10.6"
  },
  "orig_nbformat": 4
 },
 "nbformat": 4,
 "nbformat_minor": 2
}
