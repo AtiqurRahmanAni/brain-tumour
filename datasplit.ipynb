{
 "cells": [
  {
   "cell_type": "code",
   "execution_count": 1,
   "metadata": {},
   "outputs": [],
   "source": [
    "import glob\n",
    "import os\n",
    "import numpy as np\n",
    "import matplotlib\n",
    "import matplotlib.pyplot as plt\n",
    "import pandas as pd\n",
    "from random import sample\n",
    "from sklearn.model_selection import train_test_split\n",
    "import cv2\n",
    "import shutil\n",
    "from tqdm.auto import tqdm"
   ]
  },
  {
   "cell_type": "code",
   "execution_count": 3,
   "metadata": {},
   "outputs": [
    {
     "data": {
      "text/plain": [
       "(69668, 24628, 94296)"
      ]
     },
     "execution_count": 3,
     "metadata": {},
     "output_type": "execute_result"
    }
   ],
   "source": [
    "one_class = glob.glob(\"../images/filtered-1/*\")\n",
    "zero_class = glob.glob(\"../images/0/*\")\n",
    "\n",
    "len(one_class), len(zero_class), len(one_class) + len(zero_class)"
   ]
  },
  {
   "cell_type": "code",
   "execution_count": 4,
   "metadata": {},
   "outputs": [],
   "source": [
    "all_image = one_class\n",
    "labels = [1 for _ in range(len(one_class))]\n",
    "\n",
    "all_image.extend(zero_class)\n",
    "labels.extend([0 for _ in range(len(zero_class))])"
   ]
  },
  {
   "cell_type": "code",
   "execution_count": 5,
   "metadata": {},
   "outputs": [
    {
     "data": {
      "text/plain": [
       "(94296, 94296)"
      ]
     },
     "execution_count": 5,
     "metadata": {},
     "output_type": "execute_result"
    }
   ],
   "source": [
    "len(all_image), len(labels)"
   ]
  },
  {
   "cell_type": "code",
   "execution_count": 6,
   "metadata": {},
   "outputs": [],
   "source": [
    "X_train, X_test, y_train, y_test = train_test_split(all_image,labels, test_size=0.20, random_state=42, stratify=labels, shuffle=True)\n",
    "X_train, X_val, y_train, y_val = train_test_split(X_train, y_train, test_size=0.125, random_state=42, stratify=y_train, shuffle=True)"
   ]
  },
  {
   "cell_type": "code",
   "execution_count": 7,
   "metadata": {},
   "outputs": [
    {
     "data": {
      "text/plain": [
       "(66006, 9430, 18860)"
      ]
     },
     "execution_count": 7,
     "metadata": {},
     "output_type": "execute_result"
    }
   ],
   "source": [
    "len(X_train), len(X_val), len(X_test)"
   ]
  },
  {
   "cell_type": "markdown",
   "metadata": {},
   "source": [
    "**Train image saving**"
   ]
  },
  {
   "cell_type": "code",
   "execution_count": 24,
   "metadata": {},
   "outputs": [],
   "source": [
    "train_path = \"../splitted/train\"\n",
    "base_path = \"../images\"\n",
    "for (img_path, label) in zip(X_train, y_train):\n",
    "    img_name = img_path.split(\"\\\\\")[-1]\n",
    "    shutil.copy(img_path, os.path.join(f\"{train_path}/{label}\", img_name))"
   ]
  },
  {
   "cell_type": "markdown",
   "metadata": {},
   "source": [
    "**Test image saving**"
   ]
  },
  {
   "cell_type": "code",
   "execution_count": 30,
   "metadata": {},
   "outputs": [],
   "source": [
    "test_path = \"../splitted/test\"\n",
    "base_path = \"../images\"\n",
    "for (img_path, label) in zip(X_test, y_test):\n",
    "    img_name = img_path.split(\"\\\\\")[-1]\n",
    "    shutil.copy(img_path, os.path.join(f\"{test_path}/{label}\", img_name))"
   ]
  },
  {
   "cell_type": "markdown",
   "metadata": {},
   "source": [
    "**Validation image saving**"
   ]
  },
  {
   "cell_type": "code",
   "execution_count": 29,
   "metadata": {},
   "outputs": [],
   "source": [
    "val_path = \"../splitted/val\"\n",
    "base_path = \"../images\"\n",
    "for (img_path, label) in zip(X_val, y_val):\n",
    "    img_name = img_path.split(\"\\\\\")[-1]\n",
    "    shutil.copy(img_path, os.path.join(f\"{val_path}/{label}\", img_name))"
   ]
  },
  {
   "cell_type": "code",
   "execution_count": 8,
   "metadata": {},
   "outputs": [],
   "source": [
    "class_1 = glob.glob(\"../images/1/*\")\n",
    "masks_1 = glob.glob(\"../images/filtered_1/*\")\n",
    "mask_number = [x.split(\"\\\\\")[-1].split(\".\")[0] for x in masks_1]"
   ]
  },
  {
   "cell_type": "code",
   "execution_count": 20,
   "metadata": {},
   "outputs": [
    {
     "data": {
      "text/plain": [
       "12393"
      ]
     },
     "execution_count": 20,
     "metadata": {},
     "output_type": "execute_result"
    }
   ],
   "source": [
    "len(mask_number)"
   ]
  },
  {
   "cell_type": "code",
   "execution_count": 21,
   "metadata": {},
   "outputs": [
    {
     "data": {
      "application/vnd.jupyter.widget-view+json": {
       "model_id": "79c003f1cc0843d6810a4d14cd26fb32",
       "version_major": 2,
       "version_minor": 0
      },
      "text/plain": [
       "  0%|          | 0/77220 [00:00<?, ?it/s]"
      ]
     },
     "metadata": {},
     "output_type": "display_data"
    }
   ],
   "source": [
    "saving_path = \"../images/new_1\"\n",
    "for img_path in tqdm(class_1):\n",
    "    name = img_path.split(\"\\\\\")[-1].split(\".\")[0].split(\"_\")[0]\n",
    "    temp_name = img_path.split(\"\\\\\")[-1]\n",
    "    if name in mask_number:\n",
    "        shutil.copy(img_path, os.path.join(saving_path, temp_name))"
   ]
  }
 ],
 "metadata": {
  "kernelspec": {
   "display_name": "venv",
   "language": "python",
   "name": "python3"
  },
  "language_info": {
   "codemirror_mode": {
    "name": "ipython",
    "version": 3
   },
   "file_extension": ".py",
   "mimetype": "text/x-python",
   "name": "python",
   "nbconvert_exporter": "python",
   "pygments_lexer": "ipython3",
   "version": "3.10.6"
  },
  "orig_nbformat": 4
 },
 "nbformat": 4,
 "nbformat_minor": 2
}
