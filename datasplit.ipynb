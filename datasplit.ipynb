{
 "cells": [
  {
   "cell_type": "code",
   "execution_count": 18,
   "metadata": {},
   "outputs": [],
   "source": [
    "import h5py\n",
    "import glob\n",
    "import os\n",
    "import numpy as np\n",
    "import matplotlib\n",
    "import matplotlib.pyplot as plt\n",
    "import pandas as pd\n",
    "from random import sample\n",
    "from sklearn.model_selection import train_test_split\n",
    "import cv2"
   ]
  },
  {
   "cell_type": "code",
   "execution_count": 2,
   "metadata": {},
   "outputs": [
    {
     "data": {
      "text/plain": [
       "(24628, 24628)"
      ]
     },
     "execution_count": 2,
     "metadata": {},
     "output_type": "execute_result"
    }
   ],
   "source": [
    "one_class = glob.glob(\"../images/1/*\")\n",
    "zero_class = glob.glob(\"../images/0/*\")\n",
    "sampled = sample(one_class, len(zero_class))\n",
    "\n",
    "len(sampled), len(zero_class)"
   ]
  },
  {
   "cell_type": "code",
   "execution_count": 3,
   "metadata": {},
   "outputs": [],
   "source": [
    "all_image = sampled\n",
    "labels = [1 for _ in range(len(sampled))]\n",
    "\n",
    "all_image.extend(zero_class)\n",
    "labels.extend([0 for _ in range(len(zero_class))])"
   ]
  },
  {
   "cell_type": "code",
   "execution_count": 4,
   "metadata": {},
   "outputs": [
    {
     "data": {
      "text/plain": [
       "(49256, 49256)"
      ]
     },
     "execution_count": 4,
     "metadata": {},
     "output_type": "execute_result"
    }
   ],
   "source": [
    "len(all_image), len(labels)"
   ]
  },
  {
   "cell_type": "code",
   "execution_count": 5,
   "metadata": {},
   "outputs": [],
   "source": [
    "X_train, X_test, y_train, y_test = train_test_split(all_image,labels, test_size=0.20, random_state=42, stratify=labels, shuffle=True)\n",
    "X_train, X_val, y_train, y_val = train_test_split(X_train, y_train, test_size=0.125, random_state=42, stratify=y_train, shuffle=True)"
   ]
  },
  {
   "cell_type": "code",
   "execution_count": 6,
   "metadata": {},
   "outputs": [
    {
     "data": {
      "text/plain": [
       "(34478, 4926, 9852)"
      ]
     },
     "execution_count": 6,
     "metadata": {},
     "output_type": "execute_result"
    }
   ],
   "source": [
    "len(X_train), len(X_val), len(X_test)"
   ]
  },
  {
   "cell_type": "markdown",
   "metadata": {},
   "source": [
    "**Train image saving**"
   ]
  },
  {
   "cell_type": "code",
   "execution_count": 24,
   "metadata": {},
   "outputs": [],
   "source": [
    "train_path = \"../splitted/train\"\n",
    "base_path = \"../images\"\n",
    "for (img_path, label) in zip(X_train, y_train):\n",
    "    img_name = img_path.split(\"\\\\\")[-1]\n",
    "    # print(img_name, label)\n",
    "    img = os.path.join(base_path, f\"{label}\\{img_name}\")\n",
    "    img = cv2.imread(img, 0)\n",
    "\n",
    "    saving_path = os.path.join(train_path, f\"{label}/{img_name}\")\n",
    "    matplotlib.image.imsave(saving_path, img, cmap=\"gray\")\n",
    "    # break"
   ]
  },
  {
   "cell_type": "markdown",
   "metadata": {},
   "source": [
    "**Test image saving**"
   ]
  },
  {
   "cell_type": "code",
   "execution_count": 29,
   "metadata": {},
   "outputs": [],
   "source": [
    "test_path = \"../splitted/test\"\n",
    "base_path = \"../images\"\n",
    "for (img_path, label) in zip(X_test, y_test):\n",
    "    img_name = img_path.split(\"\\\\\")[-1]\n",
    "    # print(img_name, label)\n",
    "    img = os.path.join(base_path, f\"{label}\\{img_name}\")\n",
    "    img = cv2.imread(img, 0)\n",
    "\n",
    "\n",
    "    saving_path = os.path.join(test_path, f\"{label}/{img_name}\")\n",
    "    # print(saving_path)\n",
    "    matplotlib.image.imsave(saving_path, img, cmap=\"gray\")"
   ]
  },
  {
   "cell_type": "markdown",
   "metadata": {},
   "source": [
    "**Validation image saving**"
   ]
  },
  {
   "cell_type": "code",
   "execution_count": 27,
   "metadata": {},
   "outputs": [],
   "source": [
    "val_path = \"../splitted/val\"\n",
    "base_path = \"../images\"\n",
    "for (img_path, label) in zip(X_val, y_val):\n",
    "    img_name = img_path.split(\"\\\\\")[-1]\n",
    "    # print(img_name, label)\n",
    "    img = os.path.join(base_path, f\"{label}\\{img_name}\")\n",
    "    img = cv2.imread(img, 0)\n",
    "\n",
    "    saving_path = os.path.join(val_path, f\"{label}/{img_name}\")\n",
    "    matplotlib.image.imsave(saving_path, img, cmap=\"gray\")"
   ]
  }
 ],
 "metadata": {
  "kernelspec": {
   "display_name": "venv",
   "language": "python",
   "name": "python3"
  },
  "language_info": {
   "codemirror_mode": {
    "name": "ipython",
    "version": 3
   },
   "file_extension": ".py",
   "mimetype": "text/x-python",
   "name": "python",
   "nbconvert_exporter": "python",
   "pygments_lexer": "ipython3",
   "version": "3.10.6"
  },
  "orig_nbformat": 4
 },
 "nbformat": 4,
 "nbformat_minor": 2
}
