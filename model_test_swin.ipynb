{
  "cells": [
    {
      "cell_type": "code",
      "execution_count": null,
      "metadata": {
        "id": "bXCFZIdYXHm-"
      },
      "outputs": [],
      "source": [
        "from PIL import Image\n",
        "import pandas as pd\n",
        "import glob\n",
        "import numpy as np\n",
        "from PIL import Image\n",
        "import os\n",
        "import matplotlib\n",
        "import matplotlib.pyplot as plt\n",
        "import torch\n",
        "import torch.nn as nn\n",
        "import torchvision.datasets as dsets\n",
        "from transformers import DefaultDataCollator\n",
        "from torch.utils.data import Dataset, DataLoader\n",
        "from torchvision.transforms import Resize, Compose, Normalize, ToTensor, ToPILImage\n",
        "from transformers import AutoImageProcessor\n",
        "from transformers import AutoModelForImageClassification, TrainingArguments, Trainer\n",
        "from tqdm.auto import tqdm\n",
        "from sklearn.metrics import classification_report, confusion_matrix, precision_score,recall_score,f1_score, roc_curve, roc_auc_score, matthews_corrcoef\n",
        "import seaborn as sns\n",
        "import matplotlib.pyplot as plt\n",
        "import shutil"
      ]
    },
    {
      "cell_type": "code",
      "execution_count": null,
      "metadata": {
        "colab": {
          "base_uri": "https://localhost:8080/"
        },
        "id": "8dNkO2tz3IbW",
        "outputId": "b6cc28d1-1c90-452b-f6d6-1a88893ffab5"
      },
      "outputs": [
        {
          "name": "stdout",
          "output_type": "stream",
          "text": [
            "Mounted at /content/drive\n"
          ]
        }
      ],
      "source": [
        "from google.colab import drive\n",
        "drive.mount('/content/drive')"
      ]
    },
    {
      "cell_type": "code",
      "execution_count": null,
      "metadata": {
        "id": "RO3HCYP7XNoD"
      },
      "outputs": [],
      "source": [
        "dml = torch.device(\"cuda:0\" if torch.cuda.is_available() else \"cpu\")"
      ]
    },
    {
      "cell_type": "code",
      "execution_count": null,
      "metadata": {
        "id": "TK7u1Xc_3jqE"
      },
      "outputs": [],
      "source": [
        "%%capture\n",
        "!cp /content/drive/MyDrive/Upload/* ./\n",
        "!unzip -o /content/test.zip -d /content/test\n",
        "!unzip -o /content/swin_transformer.zip -d ./"
      ]
    },
    {
      "cell_type": "code",
      "execution_count": null,
      "metadata": {
        "id": "tYOS6sZS3-f0"
      },
      "outputs": [],
      "source": [
        "class MyDataset(Dataset):\n",
        "\n",
        "    def __init__(self, ds, processor):\n",
        "\n",
        "        self.ds = ds\n",
        "        self.processor = processor\n",
        "        self.normalize = Normalize(mean=self.processor.image_mean, std=self.processor.image_std)\n",
        "        self.size = (self.processor.size[\"shortest_edge\"]\n",
        "                if \"shortest_edge\" in self.processor.size\n",
        "                else (self.processor.size[\"height\"], self.processor.size[\"width\"]))\n",
        "\n",
        "        self.transform = Compose([Resize(self.size), ToTensor(), self.normalize, ToPILImage()])\n",
        "\n",
        "\n",
        "    def __len__(self):\n",
        "        return len(self.ds)\n",
        "\n",
        "    def __getitem__(self, idx):\n",
        "        image_path = self.ds[idx][0]\n",
        "        label = self.ds[idx][1]\n",
        "        image = self.transform(Image.open(image_path).convert(\"RGB\"))\n",
        "        pixel_values = self.processor(image, return_tensors=\"pt\").pixel_values\n",
        "\n",
        "        return {\"pixel_values\": pixel_values.squeeze(),\n",
        "                \"label\": label,\n",
        "                \"path\": image_path}"
      ]
    },
    {
      "cell_type": "code",
      "execution_count": null,
      "metadata": {
        "id": "k87Qjr2M5OsL"
      },
      "outputs": [],
      "source": [
        "checkpoint = \"swin_transformer\"\n",
        "image_processor = AutoImageProcessor.from_pretrained(checkpoint)\n",
        "model = AutoModelForImageClassification.from_pretrained(checkpoint, num_labels=2, ignore_mismatched_sizes=True)\n",
        "model = model.to(dml)"
      ]
    },
    {
      "cell_type": "code",
      "execution_count": null,
      "metadata": {
        "id": "XUFUqaRJ5SWD"
      },
      "outputs": [],
      "source": [
        "test_dataset = dsets.ImageFolder(root='test')\n",
        "test_ds = MyDataset(ds=test_dataset.imgs, processor=image_processor)\n",
        "test_loader = DataLoader(test_ds, batch_size=20, drop_last=True, shuffle=False)"
      ]
    },
    {
      "cell_type": "code",
      "execution_count": null,
      "metadata": {
        "id": "Ms0mlgOY5l1Z"
      },
      "outputs": [],
      "source": [
        "def get_predictions():\n",
        "    softmax = nn.Softmax(dim=1)\n",
        "    model.eval()\n",
        "    predictions = []\n",
        "    real_values = []\n",
        "    pred_probas = []\n",
        "    misclassified = []\n",
        "\n",
        "    with torch.no_grad():\n",
        "        for batch in tqdm(test_loader):\n",
        "            inputs = batch['pixel_values'].to(dml)\n",
        "            labels = batch['label']\n",
        "            path = batch['path']\n",
        "\n",
        "            outputs = softmax(model(inputs).logits)\n",
        "\n",
        "            _, preds = torch.max(outputs, dim = 1)\n",
        "            for probs in outputs.cpu():\n",
        "                pred_probas.append(list(probs.numpy()))\n",
        "\n",
        "            preds = preds.cpu().numpy()\n",
        "            labels = labels\n",
        "\n",
        "            predictions.extend(preds)\n",
        "            real_values.extend(labels)\n",
        "\n",
        "            for ind, (actual, pred) in enumerate(zip(labels, preds)):\n",
        "                if actual != pred:\n",
        "                    misclassified.append((path[ind], actual, pred))\n",
        "\n",
        "    return predictions, real_values, pred_probas, misclassified"
      ]
    },
    {
      "cell_type": "code",
      "execution_count": null,
      "metadata": {
        "colab": {
          "base_uri": "https://localhost:8080/",
          "height": 205,
          "referenced_widgets": [
            "8ecf9f417e864e8fb2e4fb63d3e3b341",
            "c2d1aa22f7ab48a1ad786d51a03bcc16",
            "05df77843a91448ca635d263d35d487a",
            "3e535726245e4d78bcb2af95a1e277f0",
            "59f3621168554922849f63b011ed4909",
            "5bb197cf5fb941ac8d9433e1352d1c5b",
            "cad3b17a201c415d8f33a34d1706a7ae",
            "f674552887ae4b888b6a88ad6e377b6f",
            "27f0f239862d4ee8abe21c119e54f983",
            "b8353c57a5fb4a54912d8fcbfe6d29f0",
            "df2ebd2fcc5e4177a70bba280ab43d69"
          ]
        },
        "id": "g-jUrd9R50pP",
        "outputId": "b9f01558-f79f-48d5-8dc6-fb03dc75401b"
      },
      "outputs": [
        {
          "data": {
            "application/vnd.jupyter.widget-view+json": {
              "model_id": "8ecf9f417e864e8fb2e4fb63d3e3b341",
              "version_major": 2,
              "version_minor": 0
            },
            "text/plain": [
              "  0%|          | 0/943 [00:00<?, ?it/s]"
            ]
          },
          "metadata": {},
          "output_type": "display_data"
        },
        {
          "name": "stdout",
          "output_type": "stream",
          "text": [
            "              precision    recall  f1-score   support\n",
            "\n",
            "           0   0.965490  0.982941  0.974137      4924\n",
            "           1   0.993934  0.987586  0.990750     13936\n",
            "\n",
            "    accuracy                       0.986373     18860\n",
            "   macro avg   0.979712  0.985263  0.982443     18860\n",
            "weighted avg   0.986508  0.986373  0.986412     18860\n",
            "\n"
          ]
        }
      ],
      "source": [
        "pred, real, probas, misclassified = get_predictions()\n",
        "print(classification_report(real, pred, digits=6))"
      ]
    },
    {
      "cell_type": "code",
      "execution_count": null,
      "metadata": {
        "colab": {
          "base_uri": "https://localhost:8080/",
          "height": 607
        },
        "id": "iZNgXP3Q6j-x",
        "outputId": "e650e673-4996-4efa-8d0b-60bade4c518c"
      },
      "outputs": [
        {
          "name": "stdout",
          "output_type": "stream",
          "text": [
            "Accuracy: 98.6373276776246%\n",
            "Precision: 0.9865075033925417\n",
            "Recall: 0.986373276776246\n",
            "F1-score: 0.9864124742344608\n",
            "MCC-score: 0.9649591485539514\n",
            "ROC AUC score: 0.903907476303417\n",
            "\n",
            "\n"
          ]
        },
        {
          "data": {
            "image/png": "[encoded data removed]",
            "text/plain": [
              "<Figure size 1300x500 with 3 Axes>"
            ]
          },
          "metadata": {},
          "output_type": "display_data"
        }
      ],
      "source": [
        "def score_in_details():\n",
        "  class_name = [0, 1]\n",
        "  y_real = real\n",
        "  y_pred = pred\n",
        "  pred_score = [max(x) for x in probas]\n",
        "  accuracy = recall_score(y_real, y_pred, average='weighted')\n",
        "  precision = precision_score(y_real, y_pred, average='weighted')\n",
        "  recall = recall_score(y_real, y_pred, average='weighted')\n",
        "  f1 = f1_score(y_real, y_pred, average='weighted')\n",
        "  roc_auc = roc_auc_score(y_real, pred_score, average='weighted')\n",
        "  mcc_score = matthews_corrcoef(y_real, y_pred)\n",
        "  fpr, tpr, thresholds = roc_curve(y_real, pred_score)\n",
        "\n",
        "  print(f\"Accuracy: {accuracy * 100}%\")\n",
        "  print(f\"Precision: {precision}\")\n",
        "  print(f\"Recall: {recall}\")\n",
        "  print(f\"F1-score: {f1}\")\n",
        "  print(f\"MCC-score: {mcc_score}\")\n",
        "  print(f\"ROC AUC score: {roc_auc}\")\n",
        "\n",
        "  print()\n",
        "  print()\n",
        "\n",
        "\n",
        "  fig, (ax1, ax2) = plt.subplots(1, 2, figsize=(13, 5))\n",
        "  conf_matrix = confusion_matrix(y_real, y_pred)\n",
        "  sns.heatmap(pd.DataFrame(conf_matrix), annot=True, cmap ='Blues', fmt='g', xticklabels=class_name, yticklabels=class_name, ax=ax1)\n",
        "  ax1.set_title('Confusion matrix')\n",
        "  ax1.set_ylabel('Actual label')\n",
        "  ax1.set_xlabel('Predicted label')\n",
        "\n",
        "  ax2.plot(fpr, tpr)\n",
        "  ax2.plot([0,1], [0,1], linestyle='--')\n",
        "  ax2.set_ylabel('TPR')\n",
        "  ax2.set_xlabel('FPR')\n",
        "  ax2.set_title('ROC curve')\n",
        "\n",
        "  plt.show()\n",
        "\n",
        "score_in_details()"
      ]
    },
    {
      "cell_type": "code",
      "execution_count": null,
      "metadata": {
        "colab": {
          "base_uri": "https://localhost:8080/",
          "height": 49,
          "referenced_widgets": [
            "57c5c357d52447ef881cf2516d3ac7fc",
            "816ce1e121c14633b6abbbef7db55ef5",
            "e6866796986945a8a7f3ce2ae7222b1b",
            "ce2428c9900044389b5e98b6265f2c08",
            "2f1290eb4d724d09bf86c16f2faa05a4",
            "7d1305612efa4a308db73d5fcb1c5fdd",
            "d085aa4f2d9245c39f123912322bb2ae",
            "31bf7efe508548e4a4651760413c0faf",
            "5baf91f7da694b518f4479f9c622dab0",
            "e86e9e040af24f82a75ebe51fb96bc67",
            "4fc51d8095264cd296b6e24dc3d60b21"
          ]
        },
        "id": "ChDLy5fzUYUr",
        "outputId": "a81b56ee-f06a-4141-e834-0fe8886cce37"
      },
      "outputs": [
        {
          "data": {
            "application/vnd.jupyter.widget-view+json": {
              "model_id": "57c5c357d52447ef881cf2516d3ac7fc",
              "version_major": 2,
              "version_minor": 0
            },
            "text/plain": [
              "  0%|          | 0/257 [00:00<?, ?it/s]"
            ]
          },
          "metadata": {},
          "output_type": "display_data"
        }
      ],
      "source": [
        "dest = \"misclassified\"\n",
        "\n",
        "if not os.path.exists(dest):\n",
        "  os.mkdir(dest)\n",
        "\n",
        "for path, actual, predictd in tqdm(misclassified):\n",
        "  img_name = path.split(\"/\")[-1].split(\".\")[0]\n",
        "  ext = path.split(\".\")[-1]\n",
        "  shutil.copy(path, os.path.join(dest, f\"{img_name}_{actual}_{predictd}.{ext}\"))"
      ]
    },
    {
      "cell_type": "code",
      "execution_count": null,
      "metadata": {
        "id": "aBGUueMJV0Ki"
      },
      "outputs": [],
      "source": [
        "%%capture\n",
        "!zip -r /content/drive/MyDrive/Upload/misclassified.zip misclassified/*"
      ]
    }
  ],
  "metadata": {
    "accelerator": "GPU",
    "colab": {
      "provenance": []
    },
    "kernelspec": {
      "display_name": "Python 3",
      "name": "python3"
    },
    "language_info": {
      "name": "python"
    },
    "widgets": {
      "application/vnd.jupyter.widget-state+json": {
        "05df77843a91448ca635d263d35d487a": {
          "model_module": "@jupyter-widgets/controls",
          "model_module_version": "1.5.0",
          "model_name": "FloatProgressModel",
          "state": {
            "_dom_classes": [],
            "_model_module": "@jupyter-widgets/controls",
            "_model_module_version": "1.5.0",
            "_model_name": "FloatProgressModel",
            "_view_count": null,
            "_view_module": "@jupyter-widgets/controls",
            "_view_module_version": "1.5.0",
            "_view_name": "ProgressView",
            "bar_style": "success",
            "description": "",
            "description_tooltip": null,
            "layout": "IPY_MODEL_f674552887ae4b888b6a88ad6e377b6f",
            "max": 943,
            "min": 0,
            "orientation": "horizontal",
            "style": "IPY_MODEL_27f0f239862d4ee8abe21c119e54f983",
            "value": 943
          }
        },
        "27f0f239862d4ee8abe21c119e54f983": {
          "model_module": "@jupyter-widgets/controls",
          "model_module_version": "1.5.0",
          "model_name": "ProgressStyleModel",
          "state": {
            "_model_module": "@jupyter-widgets/controls",
            "_model_module_version": "1.5.0",
            "_model_name": "ProgressStyleModel",
            "_view_count": null,
            "_view_module": "@jupyter-widgets/base",
            "_view_module_version": "1.2.0",
            "_view_name": "StyleView",
            "bar_color": null,
            "description_width": ""
          }
        },
        "2f1290eb4d724d09bf86c16f2faa05a4": {
          "model_module": "@jupyter-widgets/base",
          "model_module_version": "1.2.0",
          "model_name": "LayoutModel",
          "state": {
            "_model_module": "@jupyter-widgets/base",
            "_model_module_version": "1.2.0",
            "_model_name": "LayoutModel",
            "_view_count": null,
            "_view_module": "@jupyter-widgets/base",
            "_view_module_version": "1.2.0",
            "_view_name": "LayoutView",
            "align_content": null,
            "align_items": null,
            "align_self": null,
            "border": null,
            "bottom": null,
            "display": null,
            "flex": null,
            "flex_flow": null,
            "grid_area": null,
            "grid_auto_columns": null,
            "grid_auto_flow": null,
            "grid_auto_rows": null,
            "grid_column": null,
            "grid_gap": null,
            "grid_row": null,
            "grid_template_areas": null,
            "grid_template_columns": null,
            "grid_template_rows": null,
            "height": null,
            "justify_content": null,
            "justify_items": null,
            "left": null,
            "margin": null,
            "max_height": null,
            "max_width": null,
            "min_height": null,
            "min_width": null,
            "object_fit": null,
            "object_position": null,
            "order": null,
            "overflow": null,
            "overflow_x": null,
            "overflow_y": null,
            "padding": null,
            "right": null,
            "top": null,
            "visibility": null,
            "width": null
          }
        },
        "31bf7efe508548e4a4651760413c0faf": {
          "model_module": "@jupyter-widgets/base",
          "model_module_version": "1.2.0",
          "model_name": "LayoutModel",
          "state": {
            "_model_module": "@jupyter-widgets/base",
            "_model_module_version": "1.2.0",
            "_model_name": "LayoutModel",
            "_view_count": null,
            "_view_module": "@jupyter-widgets/base",
            "_view_module_version": "1.2.0",
            "_view_name": "LayoutView",
            "align_content": null,
            "align_items": null,
            "align_self": null,
            "border": null,
            "bottom": null,
            "display": null,
            "flex": null,
            "flex_flow": null,
            "grid_area": null,
            "grid_auto_columns": null,
            "grid_auto_flow": null,
            "grid_auto_rows": null,
            "grid_column": null,
            "grid_gap": null,
            "grid_row": null,
            "grid_template_areas": null,
            "grid_template_columns": null,
            "grid_template_rows": null,
            "height": null,
            "justify_content": null,
            "justify_items": null,
            "left": null,
            "margin": null,
            "max_height": null,
            "max_width": null,
            "min_height": null,
            "min_width": null,
            "object_fit": null,
            "object_position": null,
            "order": null,
            "overflow": null,
            "overflow_x": null,
            "overflow_y": null,
            "padding": null,
            "right": null,
            "top": null,
            "visibility": null,
            "width": null
          }
        },
        "3e535726245e4d78bcb2af95a1e277f0": {
          "model_module": "@jupyter-widgets/controls",
          "model_module_version": "1.5.0",
          "model_name": "HTMLModel",
          "state": {
            "_dom_classes": [],
            "_model_module": "@jupyter-widgets/controls",
            "_model_module_version": "1.5.0",
            "_model_name": "HTMLModel",
            "_view_count": null,
            "_view_module": "@jupyter-widgets/controls",
            "_view_module_version": "1.5.0",
            "_view_name": "HTMLView",
            "description": "",
            "description_tooltip": null,
            "layout": "IPY_MODEL_b8353c57a5fb4a54912d8fcbfe6d29f0",
            "placeholder": "​",
            "style": "IPY_MODEL_df2ebd2fcc5e4177a70bba280ab43d69",
            "value": " 943/943 [07:00&lt;00:00,  2.44it/s]"
          }
        },
        "4fc51d8095264cd296b6e24dc3d60b21": {
          "model_module": "@jupyter-widgets/controls",
          "model_module_version": "1.5.0",
          "model_name": "DescriptionStyleModel",
          "state": {
            "_model_module": "@jupyter-widgets/controls",
            "_model_module_version": "1.5.0",
            "_model_name": "DescriptionStyleModel",
            "_view_count": null,
            "_view_module": "@jupyter-widgets/base",
            "_view_module_version": "1.2.0",
            "_view_name": "StyleView",
            "description_width": ""
          }
        },
        "57c5c357d52447ef881cf2516d3ac7fc": {
          "model_module": "@jupyter-widgets/controls",
          "model_module_version": "1.5.0",
          "model_name": "HBoxModel",
          "state": {
            "_dom_classes": [],
            "_model_module": "@jupyter-widgets/controls",
            "_model_module_version": "1.5.0",
            "_model_name": "HBoxModel",
            "_view_count": null,
            "_view_module": "@jupyter-widgets/controls",
            "_view_module_version": "1.5.0",
            "_view_name": "HBoxView",
            "box_style": "",
            "children": [
              "IPY_MODEL_816ce1e121c14633b6abbbef7db55ef5",
              "IPY_MODEL_e6866796986945a8a7f3ce2ae7222b1b",
              "IPY_MODEL_ce2428c9900044389b5e98b6265f2c08"
            ],
            "layout": "IPY_MODEL_2f1290eb4d724d09bf86c16f2faa05a4"
          }
        },
        "59f3621168554922849f63b011ed4909": {
          "model_module": "@jupyter-widgets/base",
          "model_module_version": "1.2.0",
          "model_name": "LayoutModel",
          "state": {
            "_model_module": "@jupyter-widgets/base",
            "_model_module_version": "1.2.0",
            "_model_name": "LayoutModel",
            "_view_count": null,
            "_view_module": "@jupyter-widgets/base",
            "_view_module_version": "1.2.0",
            "_view_name": "LayoutView",
            "align_content": null,
            "align_items": null,
            "align_self": null,
            "border": null,
            "bottom": null,
            "display": null,
            "flex": null,
            "flex_flow": null,
            "grid_area": null,
            "grid_auto_columns": null,
            "grid_auto_flow": null,
            "grid_auto_rows": null,
            "grid_column": null,
            "grid_gap": null,
            "grid_row": null,
            "grid_template_areas": null,
            "grid_template_columns": null,
            "grid_template_rows": null,
            "height": null,
            "justify_content": null,
            "justify_items": null,
            "left": null,
            "margin": null,
            "max_height": null,
            "max_width": null,
            "min_height": null,
            "min_width": null,
            "object_fit": null,
            "object_position": null,
            "order": null,
            "overflow": null,
            "overflow_x": null,
            "overflow_y": null,
            "padding": null,
            "right": null,
            "top": null,
            "visibility": null,
            "width": null
          }
        },
        "5baf91f7da694b518f4479f9c622dab0": {
          "model_module": "@jupyter-widgets/controls",
          "model_module_version": "1.5.0",
          "model_name": "ProgressStyleModel",
          "state": {
            "_model_module": "@jupyter-widgets/controls",
            "_model_module_version": "1.5.0",
            "_model_name": "ProgressStyleModel",
            "_view_count": null,
            "_view_module": "@jupyter-widgets/base",
            "_view_module_version": "1.2.0",
            "_view_name": "StyleView",
            "bar_color": null,
            "description_width": ""
          }
        },
        "5bb197cf5fb941ac8d9433e1352d1c5b": {
          "model_module": "@jupyter-widgets/base",
          "model_module_version": "1.2.0",
          "model_name": "LayoutModel",
          "state": {
            "_model_module": "@jupyter-widgets/base",
            "_model_module_version": "1.2.0",
            "_model_name": "LayoutModel",
            "_view_count": null,
            "_view_module": "@jupyter-widgets/base",
            "_view_module_version": "1.2.0",
            "_view_name": "LayoutView",
            "align_content": null,
            "align_items": null,
            "align_self": null,
            "border": null,
            "bottom": null,
            "display": null,
            "flex": null,
            "flex_flow": null,
            "grid_area": null,
            "grid_auto_columns": null,
            "grid_auto_flow": null,
            "grid_auto_rows": null,
            "grid_column": null,
            "grid_gap": null,
            "grid_row": null,
            "grid_template_areas": null,
            "grid_template_columns": null,
            "grid_template_rows": null,
            "height": null,
            "justify_content": null,
            "justify_items": null,
            "left": null,
            "margin": null,
            "max_height": null,
            "max_width": null,
            "min_height": null,
            "min_width": null,
            "object_fit": null,
            "object_position": null,
            "order": null,
            "overflow": null,
            "overflow_x": null,
            "overflow_y": null,
            "padding": null,
            "right": null,
            "top": null,
            "visibility": null,
            "width": null
          }
        },
        "7d1305612efa4a308db73d5fcb1c5fdd": {
          "model_module": "@jupyter-widgets/base",
          "model_module_version": "1.2.0",
          "model_name": "LayoutModel",
          "state": {
            "_model_module": "@jupyter-widgets/base",
            "_model_module_version": "1.2.0",
            "_model_name": "LayoutModel",
            "_view_count": null,
            "_view_module": "@jupyter-widgets/base",
            "_view_module_version": "1.2.0",
            "_view_name": "LayoutView",
            "align_content": null,
            "align_items": null,
            "align_self": null,
            "border": null,
            "bottom": null,
            "display": null,
            "flex": null,
            "flex_flow": null,
            "grid_area": null,
            "grid_auto_columns": null,
            "grid_auto_flow": null,
            "grid_auto_rows": null,
            "grid_column": null,
            "grid_gap": null,
            "grid_row": null,
            "grid_template_areas": null,
            "grid_template_columns": null,
            "grid_template_rows": null,
            "height": null,
            "justify_content": null,
            "justify_items": null,
            "left": null,
            "margin": null,
            "max_height": null,
            "max_width": null,
            "min_height": null,
            "min_width": null,
            "object_fit": null,
            "object_position": null,
            "order": null,
            "overflow": null,
            "overflow_x": null,
            "overflow_y": null,
            "padding": null,
            "right": null,
            "top": null,
            "visibility": null,
            "width": null
          }
        },
        "816ce1e121c14633b6abbbef7db55ef5": {
          "model_module": "@jupyter-widgets/controls",
          "model_module_version": "1.5.0",
          "model_name": "HTMLModel",
          "state": {
            "_dom_classes": [],
            "_model_module": "@jupyter-widgets/controls",
            "_model_module_version": "1.5.0",
            "_model_name": "HTMLModel",
            "_view_count": null,
            "_view_module": "@jupyter-widgets/controls",
            "_view_module_version": "1.5.0",
            "_view_name": "HTMLView",
            "description": "",
            "description_tooltip": null,
            "layout": "IPY_MODEL_7d1305612efa4a308db73d5fcb1c5fdd",
            "placeholder": "​",
            "style": "IPY_MODEL_d085aa4f2d9245c39f123912322bb2ae",
            "value": "100%"
          }
        },
        "8ecf9f417e864e8fb2e4fb63d3e3b341": {
          "model_module": "@jupyter-widgets/controls",
          "model_module_version": "1.5.0",
          "model_name": "HBoxModel",
          "state": {
            "_dom_classes": [],
            "_model_module": "@jupyter-widgets/controls",
            "_model_module_version": "1.5.0",
            "_model_name": "HBoxModel",
            "_view_count": null,
            "_view_module": "@jupyter-widgets/controls",
            "_view_module_version": "1.5.0",
            "_view_name": "HBoxView",
            "box_style": "",
            "children": [
              "IPY_MODEL_c2d1aa22f7ab48a1ad786d51a03bcc16",
              "IPY_MODEL_05df77843a91448ca635d263d35d487a",
              "IPY_MODEL_3e535726245e4d78bcb2af95a1e277f0"
            ],
            "layout": "IPY_MODEL_59f3621168554922849f63b011ed4909"
          }
        },
        "b8353c57a5fb4a54912d8fcbfe6d29f0": {
          "model_module": "@jupyter-widgets/base",
          "model_module_version": "1.2.0",
          "model_name": "LayoutModel",
          "state": {
            "_model_module": "@jupyter-widgets/base",
            "_model_module_version": "1.2.0",
            "_model_name": "LayoutModel",
            "_view_count": null,
            "_view_module": "@jupyter-widgets/base",
            "_view_module_version": "1.2.0",
            "_view_name": "LayoutView",
            "align_content": null,
            "align_items": null,
            "align_self": null,
            "border": null,
            "bottom": null,
            "display": null,
            "flex": null,
            "flex_flow": null,
            "grid_area": null,
            "grid_auto_columns": null,
            "grid_auto_flow": null,
            "grid_auto_rows": null,
            "grid_column": null,
            "grid_gap": null,
            "grid_row": null,
            "grid_template_areas": null,
            "grid_template_columns": null,
            "grid_template_rows": null,
            "height": null,
            "justify_content": null,
            "justify_items": null,
            "left": null,
            "margin": null,
            "max_height": null,
            "max_width": null,
            "min_height": null,
            "min_width": null,
            "object_fit": null,
            "object_position": null,
            "order": null,
            "overflow": null,
            "overflow_x": null,
            "overflow_y": null,
            "padding": null,
            "right": null,
            "top": null,
            "visibility": null,
            "width": null
          }
        },
        "c2d1aa22f7ab48a1ad786d51a03bcc16": {
          "model_module": "@jupyter-widgets/controls",
          "model_module_version": "1.5.0",
          "model_name": "HTMLModel",
          "state": {
            "_dom_classes": [],
            "_model_module": "@jupyter-widgets/controls",
            "_model_module_version": "1.5.0",
            "_model_name": "HTMLModel",
            "_view_count": null,
            "_view_module": "@jupyter-widgets/controls",
            "_view_module_version": "1.5.0",
            "_view_name": "HTMLView",
            "description": "",
            "description_tooltip": null,
            "layout": "IPY_MODEL_5bb197cf5fb941ac8d9433e1352d1c5b",
            "placeholder": "​",
            "style": "IPY_MODEL_cad3b17a201c415d8f33a34d1706a7ae",
            "value": "100%"
          }
        },
        "cad3b17a201c415d8f33a34d1706a7ae": {
          "model_module": "@jupyter-widgets/controls",
          "model_module_version": "1.5.0",
          "model_name": "DescriptionStyleModel",
          "state": {
            "_model_module": "@jupyter-widgets/controls",
            "_model_module_version": "1.5.0",
            "_model_name": "DescriptionStyleModel",
            "_view_count": null,
            "_view_module": "@jupyter-widgets/base",
            "_view_module_version": "1.2.0",
            "_view_name": "StyleView",
            "description_width": ""
          }
        },
        "ce2428c9900044389b5e98b6265f2c08": {
          "model_module": "@jupyter-widgets/controls",
          "model_module_version": "1.5.0",
          "model_name": "HTMLModel",
          "state": {
            "_dom_classes": [],
            "_model_module": "@jupyter-widgets/controls",
            "_model_module_version": "1.5.0",
            "_model_name": "HTMLModel",
            "_view_count": null,
            "_view_module": "@jupyter-widgets/controls",
            "_view_module_version": "1.5.0",
            "_view_name": "HTMLView",
            "description": "",
            "description_tooltip": null,
            "layout": "IPY_MODEL_e86e9e040af24f82a75ebe51fb96bc67",
            "placeholder": "​",
            "style": "IPY_MODEL_4fc51d8095264cd296b6e24dc3d60b21",
            "value": " 257/257 [00:00&lt;00:00, 3741.76it/s]"
          }
        },
        "d085aa4f2d9245c39f123912322bb2ae": {
          "model_module": "@jupyter-widgets/controls",
          "model_module_version": "1.5.0",
          "model_name": "DescriptionStyleModel",
          "state": {
            "_model_module": "@jupyter-widgets/controls",
            "_model_module_version": "1.5.0",
            "_model_name": "DescriptionStyleModel",
            "_view_count": null,
            "_view_module": "@jupyter-widgets/base",
            "_view_module_version": "1.2.0",
            "_view_name": "StyleView",
            "description_width": ""
          }
        },
        "df2ebd2fcc5e4177a70bba280ab43d69": {
          "model_module": "@jupyter-widgets/controls",
          "model_module_version": "1.5.0",
          "model_name": "DescriptionStyleModel",
          "state": {
            "_model_module": "@jupyter-widgets/controls",
            "_model_module_version": "1.5.0",
            "_model_name": "DescriptionStyleModel",
            "_view_count": null,
            "_view_module": "@jupyter-widgets/base",
            "_view_module_version": "1.2.0",
            "_view_name": "StyleView",
            "description_width": ""
          }
        },
        "e6866796986945a8a7f3ce2ae7222b1b": {
          "model_module": "@jupyter-widgets/controls",
          "model_module_version": "1.5.0",
          "model_name": "FloatProgressModel",
          "state": {
            "_dom_classes": [],
            "_model_module": "@jupyter-widgets/controls",
            "_model_module_version": "1.5.0",
            "_model_name": "FloatProgressModel",
            "_view_count": null,
            "_view_module": "@jupyter-widgets/controls",
            "_view_module_version": "1.5.0",
            "_view_name": "ProgressView",
            "bar_style": "success",
            "description": "",
            "description_tooltip": null,
            "layout": "IPY_MODEL_31bf7efe508548e4a4651760413c0faf",
            "max": 257,
            "min": 0,
            "orientation": "horizontal",
            "style": "IPY_MODEL_5baf91f7da694b518f4479f9c622dab0",
            "value": 257
          }
        },
        "e86e9e040af24f82a75ebe51fb96bc67": {
          "model_module": "@jupyter-widgets/base",
          "model_module_version": "1.2.0",
          "model_name": "LayoutModel",
          "state": {
            "_model_module": "@jupyter-widgets/base",
            "_model_module_version": "1.2.0",
            "_model_name": "LayoutModel",
            "_view_count": null,
            "_view_module": "@jupyter-widgets/base",
            "_view_module_version": "1.2.0",
            "_view_name": "LayoutView",
            "align_content": null,
            "align_items": null,
            "align_self": null,
            "border": null,
            "bottom": null,
            "display": null,
            "flex": null,
            "flex_flow": null,
            "grid_area": null,
            "grid_auto_columns": null,
            "grid_auto_flow": null,
            "grid_auto_rows": null,
            "grid_column": null,
            "grid_gap": null,
            "grid_row": null,
            "grid_template_areas": null,
            "grid_template_columns": null,
            "grid_template_rows": null,
            "height": null,
            "justify_content": null,
            "justify_items": null,
            "left": null,
            "margin": null,
            "max_height": null,
            "max_width": null,
            "min_height": null,
            "min_width": null,
            "object_fit": null,
            "object_position": null,
            "order": null,
            "overflow": null,
            "overflow_x": null,
            "overflow_y": null,
            "padding": null,
            "right": null,
            "top": null,
            "visibility": null,
            "width": null
          }
        },
        "f674552887ae4b888b6a88ad6e377b6f": {
          "model_module": "@jupyter-widgets/base",
          "model_module_version": "1.2.0",
          "model_name": "LayoutModel",
          "state": {
            "_model_module": "@jupyter-widgets/base",
            "_model_module_version": "1.2.0",
            "_model_name": "LayoutModel",
            "_view_count": null,
            "_view_module": "@jupyter-widgets/base",
            "_view_module_version": "1.2.0",
            "_view_name": "LayoutView",
            "align_content": null,
            "align_items": null,
            "align_self": null,
            "border": null,
            "bottom": null,
            "display": null,
            "flex": null,
            "flex_flow": null,
            "grid_area": null,
            "grid_auto_columns": null,
            "grid_auto_flow": null,
            "grid_auto_rows": null,
            "grid_column": null,
            "grid_gap": null,
            "grid_row": null,
            "grid_template_areas": null,
            "grid_template_columns": null,
            "grid_template_rows": null,
            "height": null,
            "justify_content": null,
            "justify_items": null,
            "left": null,
            "margin": null,
            "max_height": null,
            "max_width": null,
            "min_height": null,
            "min_width": null,
            "object_fit": null,
            "object_position": null,
            "order": null,
            "overflow": null,
            "overflow_x": null,
            "overflow_y": null,
            "padding": null,
            "right": null,
            "top": null,
            "visibility": null,
            "width": null
          }
        }
      }
    }
  },
  "nbformat": 4,
  "nbformat_minor": 0
}
