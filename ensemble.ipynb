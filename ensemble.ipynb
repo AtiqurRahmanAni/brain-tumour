{
 "cells": [
  {
   "cell_type": "code",
   "execution_count": 1,
   "metadata": {},
   "outputs": [],
   "source": [
    "import pandas as pd\n",
    "import numpy as np\n",
    "import matplotlib.pyplot as plt\n",
    "import torch\n",
    "import torch.nn as nn\n",
    "import torchvision\n",
    "import torchvision.transforms as transforms\n",
    "import torchvision.datasets as dsets\n",
    "from sklearn.metrics import classification_report, confusion_matrix, precision_score,recall_score,f1_score, roc_curve, roc_auc_score, matthews_corrcoef\n",
    "import time\n",
    "import cv2\n",
    "import copy\n",
    "from tqdm.auto import tqdm\n",
    "import seaborn as sns\n",
    "import torch_directml"
   ]
  },
  {
   "cell_type": "code",
   "execution_count": 2,
   "metadata": {},
   "outputs": [],
   "source": [
    "dml = torch_directml.device()\n",
    "# dml = \"cpu\""
   ]
  },
  {
   "cell_type": "code",
   "execution_count": 3,
   "metadata": {},
   "outputs": [],
   "source": [
    "transform = transforms.Compose([\n",
    "        transforms.Resize(size = (224, 224)),\n",
    "        transforms.ToTensor(),\n",
    "    ])"
   ]
  },
  {
   "cell_type": "code",
   "execution_count": 4,
   "metadata": {},
   "outputs": [],
   "source": [
    "dataset_path = '../splitted'\n",
    "test_dataset = dsets.ImageFolder(root=f'{dataset_path}/test/', transform=transform)\n",
    "test_loader = torch.utils.data.DataLoader(test_dataset, batch_size=8, drop_last=True, shuffle=False)"
   ]
  },
  {
   "cell_type": "code",
   "execution_count": 5,
   "metadata": {},
   "outputs": [],
   "source": [
    "def densenet_model():\n",
    "    model = torchvision.models.densenet121(weights=\"IMAGENET1K_V1\")\n",
    "    \n",
    "    model.classifier = nn.Linear(1024, 2)\n",
    "\n",
    "    return model.to(dml)\n",
    "\n",
    "densenet = densenet_model()\n",
    "\n",
    "densenet_model_path = \"../trained-models/densenet-121.pt\"\n",
    "\n",
    "if torch.cuda.is_available():\n",
    "    densenet.load_state_dict(torch.load(densenet_model_path))\n",
    "else:\n",
    "    densenet.load_state_dict(torch.load(densenet_model_path, map_location=torch.device('cpu'))) "
   ]
  },
  {
   "cell_type": "code",
   "execution_count": 6,
   "metadata": {},
   "outputs": [],
   "source": [
    "def resnet_model():\n",
    "    model = torchvision.models.resnet152(weights='ResNet152_Weights.DEFAULT')\n",
    "    n_features = model.fc.in_features\n",
    "    model.fc = nn.Linear(n_features, 2)\n",
    "\n",
    "    return model.to(dml)\n",
    "\n",
    "resnet = resnet_model()\n",
    "\n",
    "resnet_model_path = \"../trained-models/resnet-152.pt\"\n",
    "\n",
    "if torch.cuda.is_available():\n",
    "    resnet.load_state_dict(torch.load(resnet_model_path))\n",
    "else:\n",
    "    resnet.load_state_dict(torch.load(resnet_model_path, map_location=torch.device('cpu')))"
   ]
  },
  {
   "cell_type": "code",
   "execution_count": 7,
   "metadata": {},
   "outputs": [],
   "source": [
    "class MyCNN1(nn.Module):\n",
    "    def __init__(self):\n",
    "        super(MyCNN1, self).__init__()\n",
    "        self.cnn_layer_1 = nn.Conv2d(in_channels=3, out_channels=64, kernel_size=(3, 3), stride=1, padding=0, bias=False)\n",
    "        self.batch_norm_1 = nn.BatchNorm2d(64, eps=1e-05, momentum=0.1, affine=True, track_running_stats=True)\n",
    "        self.maxpool_1 = nn.MaxPool2d(kernel_size=3, stride=2, padding=0)\n",
    "        \n",
    "        self.cnn_layer_2 = nn.Conv2d(in_channels=64, out_channels=128, kernel_size=(3, 3), stride=1, padding=0, bias=False)\n",
    "        self.batch_norm_2 = nn.BatchNorm2d(128, eps=1e-05, momentum=0.1, affine=True, track_running_stats=True)\n",
    "        self.maxpool_2 = nn.MaxPool2d(kernel_size=3, stride=2, padding=0)\n",
    "        \n",
    "        self.cnn_layer_3 = nn.Conv2d(in_channels=128, out_channels=256, kernel_size=(3, 3), stride=1, padding=0, bias=False)\n",
    "        self.batch_norm_3 = nn.BatchNorm2d(256, eps=1e-05, momentum=0.1, affine=True, track_running_stats=True)\n",
    "        self.maxpool_3 = nn.MaxPool2d(kernel_size=3, stride=2, padding=0)\n",
    "        \n",
    "        self.cnn_layer_4 = nn.Conv2d(in_channels=256, out_channels=512, kernel_size=(3, 3), stride=1, padding=0, bias=False)\n",
    "        self.batch_norm_4 = nn.BatchNorm2d(512, eps=1e-05, momentum=0.1, affine=True, track_running_stats=True)\n",
    "        self.maxpool_4 = nn.MaxPool2d(kernel_size=3, stride=2, padding=0)\n",
    "\n",
    "\n",
    "        self.flatten = nn.Flatten()\n",
    "        self.relu = nn.ReLU()\n",
    "        self.linear_layer_1 = nn.Linear(512*11*11, 512)\n",
    "        self.linear_layer_2 = nn.Linear(512, 256)\n",
    "        self.linear_layer_3 = nn.Linear(256, 2)\n",
    "                                        \n",
    "    \n",
    "    def forward(self, x):\n",
    "        x = self.cnn_layer_1(x)\n",
    "        x = self.batch_norm_1(x)\n",
    "        x = self.relu(x)\n",
    "        x = self.maxpool_1(x)\n",
    "\n",
    "\n",
    "        x = self.cnn_layer_2(x)\n",
    "        x = self.batch_norm_2(x)\n",
    "        x = self.relu(x)\n",
    "        x = self.maxpool_2(x)\n",
    "\n",
    "        x = self.cnn_layer_3(x)\n",
    "        x = self.batch_norm_3(x)\n",
    "        x = self.relu(x)\n",
    "        x = self.maxpool_3(x)\n",
    "        \n",
    "        x = self.cnn_layer_4(x)\n",
    "        x = self.batch_norm_4(x)\n",
    "        x = self.relu(x)\n",
    "        x = self.maxpool_4(x)\n",
    "        \n",
    "\n",
    "        x = self.flatten(x)\n",
    "\n",
    "        x = self.linear_layer_1(x)\n",
    "        x = self.relu(x)\n",
    "        \n",
    "        x = self.linear_layer_2(x)\n",
    "        x = self.relu(x)\n",
    "        \n",
    "        x = self.linear_layer_3(x)\n",
    "        \n",
    "        return x\n",
    "    \n",
    "\n",
    "mycnn = MyCNN1()\n",
    "mycnn.to(dml)\n",
    "\n",
    "mycnn_model_path = \"../trained-models/mycnn_three_channels.pt\"\n",
    "\n",
    "if torch.cuda.is_available():\n",
    "    resnet.load_state_dict(torch.load(resnet_model_path))\n",
    "else:\n",
    "    resnet.load_state_dict(torch.load(resnet_model_path, map_location=torch.device('cpu')))"
   ]
  },
  {
   "cell_type": "code",
   "execution_count": 8,
   "metadata": {},
   "outputs": [],
   "source": [
    "def get_predictions():\n",
    "    softmax = nn.Softmax(dim=1)\n",
    "\n",
    "    resnet.eval()\n",
    "    densenet.eval()\n",
    "    mycnn.eval()\n",
    "\n",
    "    predictions = []\n",
    "    real_values = []\n",
    "    \n",
    "    with torch.no_grad():\n",
    "        for images, labels in tqdm(test_loader):\n",
    "\n",
    "\n",
    "            images = images.to(dml)\n",
    "            labels = labels.to(dml)\n",
    "            \n",
    "            output_resnet = softmax(resnet(images))\n",
    "            output_densenet = softmax(densenet(images))\n",
    "            output_mycnn = softmax(mycnn(images))\n",
    "            \n",
    "\n",
    "            probas_resnet, preds_resnet = torch.max(output_resnet, dim = 1)\n",
    "            probas_densenet, preds_densenet = torch.max(output_densenet, dim = 1)\n",
    "            probas_mycnn, preds_mycnn = torch.max(output_mycnn, dim = 1)\n",
    "\n",
    "             \n",
    "            for idx, preds in enumerate(zip(preds_resnet, preds_densenet, preds_mycnn)):\n",
    "               if preds[0] == preds[1]:\n",
    "                  predictions.append(preds[0].cpu())\n",
    "               elif preds[0] == preds[2]:\n",
    "                  predictions.append(preds[0].cpu()) \n",
    "               elif preds[1] == preds[2]:\n",
    "                  predictions.append(preds[1].cpu())\n",
    "               else:\n",
    "                  if probas_resnet[idx] >= probas_mycnn[idx] and probas_resnet[idx] >= probas_densenet[idx]:\n",
    "                     predictions.append(preds[0].cpu())\n",
    "                  elif probas_densenet[idx] >= probas_mycnn[idx] and probas_densenet[idx] >= probas_resnet[idx]:\n",
    "                     predictions.append(preds[1].cpu())\n",
    "                  else:\n",
    "                     predictions.append(preds[2].cpu())\n",
    "\n",
    "            labels = labels.cpu()\n",
    "            real_values.extend(labels)\n",
    "            \n",
    "            \n",
    "    return predictions, real_values"
   ]
  },
  {
   "cell_type": "code",
   "execution_count": 9,
   "metadata": {},
   "outputs": [
    {
     "data": {
      "application/vnd.jupyter.widget-view+json": {
       "model_id": "5897dd4b29774b1abb756c1079c9a3cf",
       "version_major": 2,
       "version_minor": 0
      },
      "text/plain": [
       "  0%|          | 0/1231 [00:00<?, ?it/s]"
      ]
     },
     "metadata": {},
     "output_type": "display_data"
    }
   ],
   "source": [
    "pred, real = get_predictions()"
   ]
  },
  {
   "cell_type": "code",
   "execution_count": 10,
   "metadata": {},
   "outputs": [
    {
     "name": "stdout",
     "output_type": "stream",
     "text": [
      "              precision    recall  f1-score   support\n",
      "\n",
      "           0   0.958122  0.956760  0.957440      4926\n",
      "           1   0.956786  0.958147  0.957466      4922\n",
      "\n",
      "    accuracy                       0.957453      9848\n",
      "   macro avg   0.957454  0.957454  0.957453      9848\n",
      "weighted avg   0.957454  0.957453  0.957453      9848\n",
      "\n"
     ]
    }
   ],
   "source": [
    "print(classification_report([y_actual.item() for y_actual in real], [y_pred.item() for y_pred in pred], digits=6))"
   ]
  },
  {
   "cell_type": "code",
   "execution_count": 12,
   "metadata": {},
   "outputs": [
    {
     "name": "stdout",
     "output_type": "stream",
     "text": [
      "Accuracy: 95.74535716990162%\n",
      "Precision: 95.74539679138006%\n",
      "Recall: 95.74535716990162%\n",
      "F1-score: 95.74532860598023%\n",
      "MCC-score: 91.49075396127311%\n",
      "\n",
      "\n"
     ]
    },
    {
     "data": {
      "image/png": "[encoded data removed]",
      "text/plain": [
       "<Figure size 500x500 with 2 Axes>"
      ]
     },
     "metadata": {},
     "output_type": "display_data"
    }
   ],
   "source": [
    "def score_in_details():\n",
    "  y_pred = [y.item() for y in pred]\n",
    "  y_real = [y.item() for y in real]\n",
    "    \n",
    "\n",
    "  accuracy = recall_score(y_real, y_pred, average='macro')\n",
    "  precision = precision_score(y_real, y_pred, average='macro')\n",
    "  recall = recall_score(y_real, y_pred, average='macro')\n",
    "  f1 = f1_score(y_real, y_pred, average='macro')\n",
    "  mcc_score = matthews_corrcoef(y_real, y_pred)\n",
    "\n",
    "  print(f\"Accuracy: {accuracy * 100}%\")\n",
    "  print(f\"Precision: {precision * 100}%\")\n",
    "  print(f\"Recall: {recall * 100}%\")\n",
    "  print(f\"F1-score: {f1 * 100}%\")\n",
    "  print(f\"MCC-score: {mcc_score * 100}%\")\n",
    "  \n",
    "  print()\n",
    "  print()\n",
    "\n",
    "  class_name = [0, 1]\n",
    "  conf_matrix = confusion_matrix(y_real, y_pred)\n",
    "  fig, ax = plt.subplots(figsize=(5,5))\n",
    "  sns.heatmap(pd.DataFrame(conf_matrix), annot = True, cmap = 'YlGnBu',fmt = 'g', xticklabels=class_name, yticklabels=class_name)\n",
    "  plt.title('Confusion matrix', fontsize=10)\n",
    "  plt.ylabel('Actual label', fontsize=10)\n",
    "  plt.xlabel('Predicted label', fontsize=10)\n",
    "  plt.show()\n",
    "\n",
    "\n",
    "score_in_details()"
   ]
  }
 ],
 "metadata": {
  "kernelspec": {
   "display_name": "venv",
   "language": "python",
   "name": "python3"
  },
  "language_info": {
   "codemirror_mode": {
    "name": "ipython",
    "version": 3
   },
   "file_extension": ".py",
   "mimetype": "text/x-python",
   "name": "python",
   "nbconvert_exporter": "python",
   "pygments_lexer": "ipython3",
   "version": "3.10.6"
  },
  "orig_nbformat": 4
 },
 "nbformat": 4,
 "nbformat_minor": 2
}
